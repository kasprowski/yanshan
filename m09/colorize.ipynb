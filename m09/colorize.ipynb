{
 "cells": [
  {
   "cell_type": "code",
   "execution_count": null,
   "metadata": {},
   "outputs": [],
   "source": [
    "import matplotlib.pyplot as plt\n",
    "import numpy as np\n",
    "import os\n",
    "import cv2\n",
    "os.environ['TF_FORCE_GPU_ALLOW_GROWTH'] = 'true'\n",
    "\n",
    "import tensorflow as tf\n",
    "from tensorflow.keras.models import Model\n",
    "from tensorflow.keras.layers import Dense, Input\n",
    "\n",
    "if tf.test.gpu_device_name():\n",
    "    print('Default GPU Device: {}'.format(tf.test.gpu_device_name()))\n",
    "else:\n",
    "    print(\"Please install GPU version of TF\")"
   ]
  },
  {
   "cell_type": "code",
   "execution_count": null,
   "metadata": {},
   "outputs": [],
   "source": [
    "size = 256\n",
    "images = []\n",
    "i=0\n",
    "for file in os.listdir(\"bolek\"):\n",
    "    image = cv2.imread(f\"bolek/{file}\")\n",
    "    image = cv2.resize(image, (size,size))\n",
    "    image = cv2.cvtColor(image, cv2.COLOR_BGR2RGB)\n",
    "    images.append(image)\n",
    "images = np.array(images)\n",
    "images = images.astype('float32') / 255.0\n",
    "\n",
    "print('loaded training images',len(images))"
   ]
  },
  {
   "cell_type": "code",
   "execution_count": null,
   "metadata": {},
   "outputs": [],
   "source": [
    "# create BW images\n",
    "bwImages = []\n",
    "for i in range(images.shape[0]):\n",
    "    m = cv2.cvtColor(images[i], cv2.COLOR_BGR2GRAY)\n",
    "    bwImages.append(m)\n",
    "bwImages = np.array(bwImages)\n",
    "bwImages = np.expand_dims(bwImages,3)\n",
    "print(bwImages.shape)"
   ]
  },
  {
   "cell_type": "code",
   "execution_count": null,
   "metadata": {},
   "outputs": [],
   "source": [
    "import matplotlib.pyplot as plt\n",
    "import random\n",
    "plt.figure(figsize=(15, 15))\n",
    "n = 4\n",
    "x = 1\n",
    "print(\"Black&White\")\n",
    "for i in range(n):\n",
    "    ax = plt.subplot(1,n, x)\n",
    "    x = x + 1\n",
    "    plt.imshow(bwImages[i],cmap='gray')\n",
    "    plt.axis(\"off\")\n",
    "plt.show()\n",
    "plt.figure(figsize=(15, 15))\n",
    "x = 1\n",
    "print(\"Color\")\n",
    "for i in range(n):\n",
    "    ax = plt.subplot(1,n, x)\n",
    "    x = x + 1\n",
    "    plt.imshow(images[i])\n",
    "    plt.axis(\"off\")\n",
    "plt.show()"
   ]
  },
  {
   "cell_type": "code",
   "execution_count": null,
   "metadata": {},
   "outputs": [],
   "source": [
    "import random\n",
    "def show_images(bwImages,realImages,number_of_images=3,fig_size=(12,12)):\n",
    "    n=number_of_images\n",
    "    rnd = random.sample(range(realImages.shape[0]), n)\n",
    "\n",
    "    plt.figure(figsize=fig_size)\n",
    "    print('Black&White images')\n",
    "    for i in range(n):\n",
    "        ax = plt.subplot(2, n, i + 1)\n",
    "        plt.imshow(bwImages[rnd[i]],cmap='gray')\n",
    "        plt.axis(\"off\")\n",
    "    plt.show()\n",
    "\n",
    "    resultImages = autoencoder.predict(bwImages)\n",
    "    plt.figure(figsize=fig_size)\n",
    "    print('Colorized BW images')\n",
    "    for i in range(n):\n",
    "        ax = plt.subplot(2, n, i + 1)\n",
    "        plt.imshow(tf.clip_by_value(resultImages[rnd[i]], 0.0, 1.0))\n",
    "        plt.axis(\"off\")\n",
    "    plt.show()\n",
    "\n",
    "    plt.figure(figsize=fig_size)\n",
    "    print('Original images')\n",
    "    for i in range(n):\n",
    "        ax = plt.subplot(2, n, i + 1)\n",
    "        plt.imshow(realImages[rnd[i]])\n",
    "        plt.axis(\"off\")\n",
    "    plt.show()\n"
   ]
  },
  {
   "cell_type": "code",
   "execution_count": null,
   "metadata": {},
   "outputs": [],
   "source": [
    "import tensorflow as tf\n",
    "from tensorflow.keras.models import Model\n",
    "from tensorflow.keras.layers import Dense, Activation, Dropout, Flatten, Conv2D, MaxPooling2D, BatchNormalization, Input\n",
    "from tensorflow.keras.layers import UpSampling2D, LeakyReLU, Conv2DTranspose, Concatenate\n",
    "from tensorflow.keras.initializers import RandomNormal\n",
    "\n",
    "def colorize_model(image_shape):\n",
    "    conv_args = {\"activation\": \"relu\",\"padding\": \"same\", \"kernel_size\": (3,3)}\n",
    "    input_img = Input(shape=image_shape)\n",
    "    x = Conv2D(filters = 16, **conv_args)(input_img)\n",
    "    x = Conv2D(filters = 32, **conv_args)(x)\n",
    "    x = Conv2D(filters = 64, **conv_args)(x)\n",
    "    x = Dense(10)(x)\n",
    "    output_img = Conv2D(3, (3, 3),  padding='same')(x)\n",
    "    model = Model(input_img, output_img)\n",
    "    return model\n",
    "\n",
    "import autoencoder_models\n",
    "#autoencoder = autoencoder_models.unet_model((None,None,3))\n",
    "autoencoder = colorize_model((None,None,1))\n",
    "\n",
    "autoencoder.summary()\n",
    "optimizer = tf.keras.optimizers.Adam()\n",
    "autoencoder.compile(optimizer=optimizer, loss='binary_crossentropy')\n"
   ]
  },
  {
   "cell_type": "code",
   "execution_count": null,
   "metadata": {},
   "outputs": [],
   "source": [
    "# add two channels to BW images - necessary for out UNET model!\n",
    "print(bwImages.shape)\n",
    "bwImages = np.concatenate((bwImages,bwImages,bwImages),axis=3)\n",
    "print(bwImages.shape)"
   ]
  },
  {
   "cell_type": "code",
   "execution_count": null,
   "metadata": {
    "tags": []
   },
   "outputs": [],
   "source": [
    "for epoch in range(30):\n",
    "    autoencoder.fit(bwImages, images, batch_size=2, epochs=1)\n",
    "    if epoch%1==0:\n",
    "        print(\"Epoch\",epoch)\n",
    "        show_images(bwImages,images)\n",
    "    "
   ]
  },
  {
   "cell_type": "code",
   "execution_count": null,
   "metadata": {},
   "outputs": [],
   "source": [
    "\n",
    "image = cv2.imread(f\"bolek/frame1501.jpg\")\n",
    "#    image = cv2.resize(image, (size,size))\n",
    "image = cv2.cvtColor(image, cv2.COLOR_BGR2RGB)\n",
    "imageBW = cv2.cvtColor(image, cv2.COLOR_BGR2GRAY)\n",
    "imageBW = np.expand_dims(imageBW,2)\n",
    "\n",
    "image = np.expand_dims(image,0)\n",
    "imageBW = np.expand_dims(imageBW,0)\n",
    "\n",
    "image = image/255.0\n",
    "imageBW = imageBW/255.0\n",
    "#imageBW = np.concatenate((imageBW,imageBW,imageBW),axis=3)\n",
    "show_images(imageBW,image,1)"
   ]
  }
 ],
 "metadata": {
  "kernelspec": {
   "display_name": "Python 3",
   "language": "python",
   "name": "python3"
  },
  "language_info": {
   "codemirror_mode": {
    "name": "ipython",
    "version": 3
   },
   "file_extension": ".py",
   "mimetype": "text/x-python",
   "name": "python",
   "nbconvert_exporter": "python",
   "pygments_lexer": "ipython3",
   "version": "3.8.8"
  }
 },
 "nbformat": 4,
 "nbformat_minor": 4
}
