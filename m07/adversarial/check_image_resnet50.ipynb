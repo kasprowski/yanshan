{
 "cells": [
  {
   "cell_type": "markdown",
   "metadata": {},
   "source": [
    "# Load images from the directory and use ResNet50 to classify them"
   ]
  },
  {
   "cell_type": "code",
   "execution_count": 1,
   "metadata": {},
   "outputs": [],
   "source": [
    "import tensorflow as tf\n",
    "import numpy as np\n",
    "import matplotlib.pyplot as plt\n",
    "import random\n",
    "import cv2\n",
    "import os"
   ]
  },
  {
   "cell_type": "markdown",
   "metadata": {},
   "source": [
    "## Load the model"
   ]
  },
  {
   "cell_type": "code",
   "execution_count": 2,
   "metadata": {},
   "outputs": [
    {
     "name": "stdout",
     "output_type": "stream",
     "text": [
      "model loaded with 177 layers\n"
     ]
    }
   ],
   "source": [
    "model = tf.keras.applications.ResNet50(weights = 'imagenet')\n",
    "print('model loaded with',len(model.layers),'layers')"
   ]
  },
  {
   "cell_type": "markdown",
   "metadata": {},
   "source": [
    "## Load images from the given directory"
   ]
  },
  {
   "cell_type": "code",
   "execution_count": 3,
   "metadata": {},
   "outputs": [
    {
     "name": "stdout",
     "output_type": "stream",
     "text": [
      "Loading kot-frusia_00.jpg\n",
      "Loading kot-frusia_02.jpg\n",
      "Loading kot-frusia_04.jpg\n",
      "Loading kot-frusia_06.jpg\n",
      "Loading kot-frusia_08.jpg\n",
      "Loading kot-frusia_10.jpg\n",
      "Loading kot-frusia_12.jpg\n",
      "Loading kot-frusia_14.jpg\n",
      "Loading kot-frusia_16.jpg\n",
      "Loading kot-frusia_18.jpg\n",
      "Loading kot-frusia_20.jpg\n",
      "Loading kot-frusia_22.jpg\n",
      "Loading kot-frusia_24.jpg\n",
      "Loading kot-frusia_26.jpg\n",
      "Loading kot-frusia_28.jpg\n",
      "Loading kot-frusia_30.jpg\n",
      "Loading kot-frusia_32.jpg\n",
      "Loading kot-frusia_34.jpg\n",
      "Loading kot-frusia_36.jpg\n",
      "Loading kot-frusia_38.jpg\n",
      "Loading kot-frusia_40.jpg\n",
      "Loading kot-frusia_42.jpg\n",
      "Loading kot-frusia_44.jpg\n",
      "Loading kot-frusia_46.jpg\n",
      "Loading kot-frusia_48.jpg\n",
      "Loading kot-frusia_50.jpg\n",
      "Loading kot-frusia_52.jpg\n",
      "Loading kot-frusia_54.jpg\n",
      "Loading kot-frusia_56.jpg\n"
     ]
    }
   ],
   "source": [
    "dir = \"outdir\"\n",
    "samples = []\n",
    "labels = []\n",
    "\n",
    "for image_name in os.listdir(dir):\n",
    "    print(\"Loading\",image_name)\n",
    "    image = cv2.imread(f\"{dir}/{image_name}\")\n",
    "    image = cv2.cvtColor(image, cv2.COLOR_BGR2RGB)\n",
    "    image = cv2.resize(image, (224,224))\n",
    "    samples.append(image)\n",
    "    labels.append(image_name)\n",
    "\n",
    "samples = np.array(samples)\n",
    "samples = tf.keras.applications.resnet50.preprocess_input(samples)"
   ]
  },
  {
   "cell_type": "markdown",
   "metadata": {},
   "source": [
    "## Predict classes for images"
   ]
  },
  {
   "cell_type": "code",
   "execution_count": 4,
   "metadata": {},
   "outputs": [
    {
     "name": "stdout",
     "output_type": "stream",
     "text": [
      "kot-frusia_00.jpg -> (Egyptian_cat:0.73, Norwegian_elkhound:0.05, tiger_cat:0.04)\n",
      "kot-frusia_02.jpg -> (Egyptian_cat:0.73, Norwegian_elkhound:0.05, tiger_cat:0.04)\n",
      "kot-frusia_04.jpg -> (Egyptian_cat:0.74, Norwegian_elkhound:0.04, tiger_cat:0.04)\n",
      "kot-frusia_06.jpg -> (Egyptian_cat:0.73, Norwegian_elkhound:0.04, tabby:0.04)\n",
      "kot-frusia_08.jpg -> (Egyptian_cat:0.74, tabby:0.04, tiger_cat:0.04)\n",
      "kot-frusia_10.jpg -> (Egyptian_cat:0.74, tiger_cat:0.04, tabby:0.04)\n",
      "kot-frusia_12.jpg -> (Egyptian_cat:0.73, tiger_cat:0.04, tabby:0.04)\n",
      "kot-frusia_14.jpg -> (Egyptian_cat:0.73, tiger_cat:0.05, tabby:0.04)\n",
      "kot-frusia_16.jpg -> (Egyptian_cat:0.71, Norwegian_elkhound:0.05, tiger_cat:0.05)\n",
      "kot-frusia_18.jpg -> (Egyptian_cat:0.71, tiger_cat:0.05, tabby:0.05)\n",
      "kot-frusia_20.jpg -> (Egyptian_cat:0.70, tiger_cat:0.05, Norwegian_elkhound:0.05)\n",
      "kot-frusia_22.jpg -> (Egyptian_cat:0.67, Norwegian_elkhound:0.05, tiger_cat:0.05)\n",
      "kot-frusia_24.jpg -> (Norwegian_elkhound:0.19, Egyptian_cat:0.16, swing:0.08)\n",
      "kot-frusia_26.jpg -> (Norwegian_elkhound:0.21, swing:0.11, standard_schnauzer:0.08)\n",
      "kot-frusia_28.jpg -> (Norwegian_elkhound:0.19, swing:0.11, llama:0.09)\n",
      "kot-frusia_30.jpg -> (Norwegian_elkhound:0.17, llama:0.13, swing:0.10)\n",
      "kot-frusia_32.jpg -> (Norwegian_elkhound:0.17, llama:0.17, swing:0.09)\n",
      "kot-frusia_34.jpg -> (Norwegian_elkhound:0.20, llama:0.17, swing:0.09)\n",
      "kot-frusia_36.jpg -> (llama:0.21, Norwegian_elkhound:0.17, swing:0.10)\n",
      "kot-frusia_38.jpg -> (llama:0.23, Norwegian_elkhound:0.15, swing:0.10)\n",
      "kot-frusia_40.jpg -> (llama:0.25, Norwegian_elkhound:0.15, swing:0.09)\n",
      "kot-frusia_42.jpg -> (llama:0.30, Norwegian_elkhound:0.14, swing:0.09)\n",
      "kot-frusia_44.jpg -> (llama:0.31, Norwegian_elkhound:0.14, swing:0.08)\n",
      "kot-frusia_46.jpg -> (llama:0.40, Norwegian_elkhound:0.11, swing:0.08)\n",
      "kot-frusia_48.jpg -> (llama:0.61, Norwegian_elkhound:0.06, swing:0.05)\n",
      "kot-frusia_50.jpg -> (llama:0.70, swing:0.05, Norwegian_elkhound:0.03)\n",
      "kot-frusia_52.jpg -> (llama:0.86, swing:0.02, standard_schnauzer:0.01)\n",
      "kot-frusia_54.jpg -> (llama:0.89, swing:0.02, standard_schnauzer:0.01)\n",
      "kot-frusia_56.jpg -> (llama:0.93, swing:0.01, standard_schnauzer:0.01)\n"
     ]
    }
   ],
   "source": [
    "predictions = model.predict(samples)\n",
    "top3 = tf.keras.applications.resnet50.decode_predictions(predictions, top = 3)\n",
    "\n",
    "for i in range(len(samples)):\n",
    "   print(\"{} -> ({}:{:.2f}, {}:{:.2f}, {}:{:.2f})\".format(labels[i],\n",
    "                top3[i][0][1],top3[i][0][2],\n",
    "                top3[i][1][1],top3[i][1][2],\n",
    "                top3[i][2][1],top3[i][2][2]))"
   ]
  }
 ],
 "metadata": {
  "kernelspec": {
   "display_name": "Python 3",
   "language": "python",
   "name": "python3"
  },
  "language_info": {
   "codemirror_mode": {
    "name": "ipython",
    "version": 3
   },
   "file_extension": ".py",
   "mimetype": "text/x-python",
   "name": "python",
   "nbconvert_exporter": "python",
   "pygments_lexer": "ipython3",
   "version": "3.8.5"
  }
 },
 "nbformat": 4,
 "nbformat_minor": 4
}
