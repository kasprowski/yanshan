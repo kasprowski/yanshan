{
 "cells": [
  {
   "cell_type": "markdown",
   "metadata": {},
   "source": [
    "# Example of adversarial attack on ResNet50 network"
   ]
  },
  {
   "cell_type": "code",
   "execution_count": null,
   "metadata": {},
   "outputs": [],
   "source": [
    "# import necessary packages\n",
    "from tensorflow.keras.optimizers import Adam\n",
    "from tensorflow.keras.applications import ResNet50\n",
    "from tensorflow.keras.losses import SparseCategoricalCrossentropy\n",
    "from tensorflow.keras.applications.resnet50 import decode_predictions\n",
    "from tensorflow.keras.applications.resnet50 import preprocess_input\n",
    "import tensorflow as tf\n",
    "import numpy as np\n",
    "import cv2\n",
    "import matplotlib.pyplot as plt\n",
    "import os"
   ]
  },
  {
   "cell_type": "markdown",
   "metadata": {},
   "source": [
    "### Load ResNet50 network with weights and set parameters"
   ]
  },
  {
   "cell_type": "code",
   "execution_count": null,
   "metadata": {},
   "outputs": [],
   "source": [
    "model = ResNet50(weights=\"imagenet\")\n",
    "print('ResNet50 model loaded with',len(model.layers),'layers')\n",
    "optimizer = Adam(learning_rate=0.01)\n",
    "lossFunct = SparseCategoricalCrossentropy()"
   ]
  },
  {
   "cell_type": "markdown",
   "metadata": {},
   "source": [
    "### Load the initial image"
   ]
  },
  {
   "cell_type": "code",
   "execution_count": null,
   "metadata": {},
   "outputs": [],
   "source": [
    "image_name = 'kot-frusia'\n",
    "#image_name = 'lama'\n",
    "\n",
    "image = cv2.imread(f\"{image_name}.jpg\")\n",
    "image = cv2.cvtColor(image, cv2.COLOR_BGR2RGB)\n",
    "image = cv2.resize(image, (224, 224))\n",
    "image = np.expand_dims(image, axis=0)\n",
    "# change to tensor\n",
    "baseImage = tf.constant(image, dtype=tf.float32)\n",
    "print(\"Image\",image_name,\"loaded\")"
   ]
  },
  {
   "cell_type": "markdown",
   "metadata": {},
   "source": [
    "### Original prediction"
   ]
  },
  {
   "cell_type": "code",
   "execution_count": null,
   "metadata": {},
   "outputs": [],
   "source": [
    "org_pred = model.predict(tf.keras.applications.resnet50.preprocess_input(image))\n",
    "dec_pred = decode_predictions(org_pred, top=3)[0]\n",
    "real_class = org_pred.argmax()\n",
    "real_label = dec_pred[0][1]\n",
    "real_pred = dec_pred[0][2]\n",
    "print(\"Predicted class: \",real_class,real_label,real_pred)\n",
    "plt.imshow(image[0])\n",
    "plt.title(f\"{real_class} {real_label}:{real_pred*100:.2f}%\")\n",
    "plt.axis(\"off\")  \n",
    "plt.show()"
   ]
  },
  {
   "cell_type": "markdown",
   "metadata": {},
   "source": [
    "### One learning step"
   ]
  },
  {
   "cell_type": "code",
   "execution_count": null,
   "metadata": {},
   "outputs": [],
   "source": [
    "def do_step(image,delta,real_class):\n",
    "    with tf.GradientTape() as tape:\n",
    "        tape.watch(delta)\n",
    "        adversary = tf.keras.applications.resnet50.preprocess_input(baseImage + delta)\n",
    "        predictions = model(adversary, training=False)\n",
    "        originalLoss = lossFunct(tf.convert_to_tensor([real_class]),predictions)\n",
    "        loss = - originalLoss\n",
    "        \n",
    "        originalLoss = lossFunct(tf.convert_to_tensor([real_class]),predictions)\n",
    "        targetLoss = lossFunct(tf.convert_to_tensor([target_class]),predictions)\n",
    "        loss = targetLoss - originalLoss  # goal: minimize error to targetLoss and maximize error to originalLoss\n",
    "\n",
    "        \n",
    "    gradients = tape.gradient(loss, delta)\n",
    "    #optimizer.apply_gradients([(gradients, delta)])\n",
    "    #delta.assign_add(delta)\n",
    "    \n",
    "    optimizer.apply_gradients([(gradients, delta)])\n",
    "    clipped_delta = tf.clip_by_value(delta, clip_value_min=-0.01, clip_value_max=0.01)\n",
    "    delta.assign_add(clipped_delta)\n",
    "\n",
    "    \n",
    "    return delta,loss"
   ]
  },
  {
   "cell_type": "markdown",
   "metadata": {},
   "source": [
    "### Visualisation"
   ]
  },
  {
   "cell_type": "code",
   "execution_count": null,
   "metadata": {},
   "outputs": [],
   "source": [
    "def show_step(delta,loss):  \n",
    "    print(\"step: {}, loss: {}...\".format(step, loss.numpy()))\n",
    "    adverImage = (baseImage + delta).numpy().squeeze()\n",
    "    adverImage = np.clip(adverImage, 0, 255).astype(\"uint8\")\n",
    "    adverImage = np.expand_dims(adverImage, axis=0)\n",
    "    predictions = model.predict(tf.keras.applications.resnet50.preprocess_input(adverImage))\n",
    "    top3 = decode_predictions(predictions, top=3)[0]\n",
    "    print(\"{}. {} -> ({}:{:.2f}, {}:{:.2f}, {}:{:.2f})\".format(step,real_label,\n",
    "                top3[0][1],top3[0][2],\n",
    "                top3[1][1],top3[1][2],\n",
    "                top3[2][1],top3[2][2]))\n",
    "\n",
    "    fig=plt.figure(figsize=(12,8))\n",
    "    ax = plt.subplot(1, 3, 1)\n",
    "    plt.title(f\"Original {real_label}:{100*real_pred:.2f}%\")\n",
    "    plt.imshow(image.squeeze())\n",
    "    plt.axis(\"off\")  \n",
    "    ax = plt.subplot(1, 3, 2)\n",
    "    plt.title(\"Delta\")\n",
    "    plt.imshow(np.clip((delta.numpy().squeeze()*256).astype(\"uint8\"), 0, 255))\n",
    "    plt.axis(\"off\")  \n",
    "    ax = plt.subplot(1, 3, 3)\n",
    "    plt.title(f\"Adversary {top3[0][1]}:{100*top3[0][2]:.2f}%\")\n",
    "    plt.imshow(adverImage.squeeze())\n",
    "    plt.axis(\"off\")  \n",
    "    plt.show() \n",
    "    cv2.imwrite(f\"outdir/{image_name}_{step:02d}.jpg\", cv2.cvtColor(adverImage.squeeze(), cv2.COLOR_RGB2BGR))\n"
   ]
  },
  {
   "cell_type": "markdown",
   "metadata": {},
   "source": [
    "### The learning loop"
   ]
  },
  {
   "cell_type": "code",
   "execution_count": null,
   "metadata": {},
   "outputs": [],
   "source": [
    "steps = 100\n",
    "\n",
    "target_class = 355\n",
    "delta = tf.Variable(tf.zeros_like(baseImage), trainable=True)\n",
    "for step in range(0, steps):\n",
    "    delta,loss = do_step(baseImage, delta, real_class)\n",
    "    if step % 2==0:\n",
    "        show_step(delta,loss)\n",
    "print(\"Done\")"
   ]
  }
 ],
 "metadata": {
  "kernelspec": {
   "display_name": "Python 3",
   "language": "python",
   "name": "python3"
  },
  "language_info": {
   "codemirror_mode": {
    "name": "ipython",
    "version": 3
   },
   "file_extension": ".py",
   "mimetype": "text/x-python",
   "name": "python",
   "nbconvert_exporter": "python",
   "pygments_lexer": "ipython3",
   "version": "3.8.5"
  }
 },
 "nbformat": 4,
 "nbformat_minor": 4
}
