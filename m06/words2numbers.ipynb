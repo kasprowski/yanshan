{
 "cells": [
  {
   "cell_type": "markdown",
   "metadata": {},
   "source": [
    "# Model transforming words into a number\n",
    "- input: sequence of letters\n",
    "- output: number \n",
    "\n",
    "\n",
    "Examples: \n",
    "- input: sequence 'one hundred' output: 100\n",
    "- input: sequence 'two hundred fourteen' output: 214\n",
    "\n",
    "The code in file number2words.py taken from: https://www.codesansar.com/python-programming-examples/number-words-conversion-no-library-used.htm"
   ]
  },
  {
   "cell_type": "code",
   "execution_count": 1,
   "metadata": {},
   "outputs": [],
   "source": [
    "from tensorflow.keras.layers import Dense\n",
    "from tensorflow.keras.models import Sequential\n",
    "from tensorflow.keras.layers import LSTM\n",
    "import numpy as np\n",
    "from number2words import getWords"
   ]
  },
  {
   "cell_type": "markdown",
   "metadata": {},
   "source": [
    "## Model"
   ]
  },
  {
   "cell_type": "code",
   "execution_count": 2,
   "metadata": {},
   "outputs": [
    {
     "name": "stdout",
     "output_type": "stream",
     "text": [
      "Model: \"sequential\"\n",
      "_________________________________________________________________\n",
      "Layer (type)                 Output Shape              Param #   \n",
      "=================================================================\n",
      "lstm (LSTM)                  (None, None, 128)         66560     \n",
      "_________________________________________________________________\n",
      "lstm_1 (LSTM)                (None, 128)               131584    \n",
      "_________________________________________________________________\n",
      "dense (Dense)                (None, 1)                 129       \n",
      "=================================================================\n",
      "Total params: 198,273\n",
      "Trainable params: 198,273\n",
      "Non-trainable params: 0\n",
      "_________________________________________________________________\n"
     ]
    }
   ],
   "source": [
    "model = Sequential()\n",
    "model.add(LSTM(128,input_shape=(None,1),return_sequences=True)) # sequences of singlen numbers\n",
    "model.add(LSTM(128))\n",
    "model.add(Dense(1))\n",
    "\n",
    "model.compile(loss='mean_squared_error', optimizer=\"adam\",metrics=['mae','mse'])\n",
    "num_epochs = 0\n",
    "model.summary()"
   ]
  },
  {
   "cell_type": "markdown",
   "metadata": {},
   "source": [
    "## Dataset creation"
   ]
  },
  {
   "cell_type": "markdown",
   "metadata": {},
   "source": [
    "### Helper methods"
   ]
  },
  {
   "cell_type": "code",
   "execution_count": 3,
   "metadata": {},
   "outputs": [],
   "source": [
    "# helper method, converts sequence of numbers to text\n",
    "def to_text(sample):\n",
    "    return ''.join([idx2char[int(x)] for x in sample])\n",
    "# helper method, converts text to sequence of numbers\n",
    "def to_number(words):\n",
    "    return np.array([char2idx[char] for char in words])"
   ]
  },
  {
   "cell_type": "markdown",
   "metadata": {},
   "source": [
    "### Dataset - **samples** and **labels**"
   ]
  },
  {
   "cell_type": "code",
   "execution_count": 4,
   "metadata": {},
   "outputs": [
    {
     "name": "stdout",
     "output_type": "stream",
     "text": [
      "Max len of text 27\n",
      "vocabulary (used letters) [' ', 'd', 'e', 'f', 'g', 'h', 'i', 'l', 'n', 'o', 'r', 's', 't', 'u', 'v', 'w', 'x', 'y', 'z']\n",
      "unique characters 19\n"
     ]
    }
   ],
   "source": [
    "DATASET_SIZE=200\n",
    "\n",
    "samples = []\n",
    "labels = []\n",
    "all_words = ''\n",
    "max_len = 0\n",
    "for i in range(DATASET_SIZE):\n",
    "    labels.append(i)\n",
    "    #words = lslownie(i)\n",
    "    words = getWords(i)\n",
    "    samples.append(words)\n",
    "    all_words += words\n",
    "    if len(words)>max_len: \n",
    "        max_len = len(words)\n",
    "  \n",
    "print('Max len of text',max_len)\n",
    "vocab = sorted(set(all_words))\n",
    "vocab_size = len(vocab)\n",
    "print('vocabulary (used letters)',vocab)\n",
    "print ('unique characters',vocab_size)"
   ]
  },
  {
   "cell_type": "markdown",
   "metadata": {},
   "source": [
    "#### Creating a mapping from unique characters to indices"
   ]
  },
  {
   "cell_type": "code",
   "execution_count": 5,
   "metadata": {},
   "outputs": [
    {
     "name": "stdout",
     "output_type": "stream",
     "text": [
      "char2idx:\n",
      " {' ': 0, 'd': 1, 'e': 2, 'f': 3, 'g': 4, 'h': 5, 'i': 6, 'l': 7, 'n': 8, 'o': 9, 'r': 10, 's': 11, 't': 12, 'u': 13, 'v': 14, 'w': 15, 'x': 16, 'y': 17, 'z': 18}\n",
      "idx2char\n",
      " [' ' 'd' 'e' 'f' 'g' 'h' 'i' 'l' 'n' 'o' 'r' 's' 't' 'u' 'v' 'w' 'x' 'y'\n",
      " 'z']\n"
     ]
    }
   ],
   "source": [
    "char2idx = {char:index for index, char in enumerate(vocab)}\n",
    "print('char2idx:\\n',char2idx)\n",
    "idx2char = np.array(vocab)\n",
    "print('idx2char\\n',idx2char)"
   ]
  },
  {
   "cell_type": "markdown",
   "metadata": {},
   "source": [
    "#### Convert letters to numbers using char2idx"
   ]
  },
  {
   "cell_type": "code",
   "execution_count": 6,
   "metadata": {},
   "outputs": [
    {
     "name": "stdout",
     "output_type": "stream",
     "text": [
      "one hundred twenty three    ->becomes->  [ 9  8  2  0  5 13  8  1 10  2  1  0 12 15  2  8 12 17  0 12  5 10  2  2\n",
      "  0  0]\n"
     ]
    }
   ],
   "source": [
    "samples_int = []\n",
    "for s in samples:\n",
    "    v = np.array([char2idx[char] for char in s])\n",
    "    samples_int.append(v) # different sizes!\n",
    "print(samples[123],' ->becomes-> ',samples_int[123])"
   ]
  },
  {
   "cell_type": "markdown",
   "metadata": {},
   "source": [
    "#### From list of lists to numpy - must have a fixed number of characters (30 -> max_len)"
   ]
  },
  {
   "cell_type": "code",
   "execution_count": 7,
   "metadata": {},
   "outputs": [
    {
     "name": "stdout",
     "output_type": "stream",
     "text": [
      "SAMPLES\n",
      "\n",
      " [[18.  2. 10. ...  0.  0.  0.]\n",
      " [ 9.  8.  2. ...  0.  0.  0.]\n",
      " [12. 15.  9. ...  0.  0.  0.]\n",
      " ...\n",
      " [ 9.  8.  2. ...  0.  0.  0.]\n",
      " [ 9.  8.  2. ...  0.  0.  0.]\n",
      " [ 9.  8.  2. ...  0.  0.  0.]]\n",
      "(200, 27)\n"
     ]
    }
   ],
   "source": [
    "samples = np.zeros((DATASET_SIZE,max_len))\n",
    "for i in range(len(samples_int)):\n",
    "    for j in range(len(samples_int[i])):\n",
    "        samples[i,j] = np.array(samples_int[i][j]) # all not used have '0' which is ' '\n",
    "print('SAMPLES\\n\\n',samples)\n",
    "print(samples.shape)"
   ]
  },
  {
   "cell_type": "code",
   "execution_count": 8,
   "metadata": {},
   "outputs": [
    {
     "name": "stdout",
     "output_type": "stream",
     "text": [
      "Sample (for 123):\n",
      " [[ 9.]\n",
      " [ 8.]\n",
      " [ 2.]\n",
      " [ 0.]\n",
      " [ 5.]\n",
      " [13.]\n",
      " [ 8.]\n",
      " [ 1.]\n",
      " [10.]\n",
      " [ 2.]\n",
      " [ 1.]\n",
      " [ 0.]\n",
      " [12.]\n",
      " [15.]\n",
      " [ 2.]\n",
      " [ 8.]\n",
      " [12.]\n",
      " [17.]\n",
      " [ 0.]\n",
      " [12.]\n",
      " [ 5.]\n",
      " [10.]\n",
      " [ 2.]\n",
      " [ 2.]\n",
      " [ 0.]\n",
      " [ 0.]\n",
      " [ 0.]]\n",
      "Sample decoded one hundred twenty three   \n",
      "Label (output): 123.0\n",
      "samples shape (200, 27, 1)\n",
      "labels shape (200,)\n"
     ]
    }
   ],
   "source": [
    "samples = np.expand_dims(samples,axis=2) #add the third dimension\n",
    "labels = np.array(labels,dtype=float)\n",
    "\n",
    "print(\"Sample (for 123):\\n\",samples[123])\n",
    "print(\"Sample decoded\",to_text(samples[123]))\n",
    "print(\"Label (output):\",labels[123])\n",
    "\n",
    "print('samples shape',samples.shape)\n",
    "print('labels shape',labels.shape)"
   ]
  },
  {
   "cell_type": "code",
   "execution_count": 9,
   "metadata": {},
   "outputs": [
    {
     "name": "stdout",
     "output_type": "stream",
     "text": [
      "Training samples: 100  test samples 100\n"
     ]
    }
   ],
   "source": [
    "TRAINING_SIZE = .5\n",
    "from sklearn.model_selection import train_test_split\n",
    "(trainSamples, testSamples, trainLabels, testLabels) = train_test_split(samples, labels,train_size=TRAINING_SIZE, random_state=1)\n",
    "print('Training samples:',len(trainSamples),' test samples',len(testSamples))"
   ]
  },
  {
   "cell_type": "code",
   "execution_count": 11,
   "metadata": {},
   "outputs": [
    {
     "name": "stdout",
     "output_type": "stream",
     "text": [
      "Training with 100 samples 100 epochs and batch_size= 25\n",
      "\n",
      "0/10 Epochs: 100 - loss=4690.518, loss improvement=7341.845\n",
      "text => [predicted value] error=[error]\n",
      "ninety five                 =>  55.83 error = 39.17\n",
      "ninety eight                =>  55.83 error = 42.17\n",
      "eighty                      =>  55.83 error = 24.17\n",
      "eighty eight                =>  55.83 error = 32.17\n",
      "one hundred fifteen         =>  55.83 error = 59.17\n",
      "one hundred thirteen        =>  55.83 error = 57.17\n",
      "ninety nine                 =>  55.83 error = 43.17\n",
      "one hundred eighteen        =>  55.83 error = 62.17\n",
      "one hundred ninety one      =>  55.83 error = 135.17\n",
      "one hundred nineteen        =>  55.83 error = 63.17\n",
      "Mean error = 59.53542\n",
      "\n",
      "1/10 Epochs: 200 - loss=3306.549, loss improvement=1358.142\n",
      "text => [predicted value] error=[error]\n",
      "twenty six                  =>  81.23 error = 55.23\n",
      "one hundred fourteen        =>  81.23 error = 32.77\n",
      "one hundred sixty four      =>  81.23 error = 82.77\n",
      "seventy four                =>  81.23 error = 7.23\n",
      "one hundred sixty six       =>  81.23 error = 84.77\n",
      "one hundred sixty           =>  81.23 error = 78.77\n",
      "one hundred ninety nine     =>  81.23 error = 117.77\n",
      "one hundred thirty          =>  81.23 error = 48.77\n",
      "eighty five                 =>  81.23 error = 3.77\n",
      "one hundred thirty five     =>  81.23 error = 53.77\n",
      "Mean error = 51.667946\n",
      "\n",
      "2/10 Epochs: 300 - loss=3111.681, loss improvement=189.879\n",
      "text => [predicted value] error=[error]\n",
      "one hundred forty six       =>  91.97 error = 54.03\n",
      "eighty two                  =>  91.97 error = 9.97\n",
      "ninety two                  =>  91.97 error = 0.03\n",
      "one hundred twenty seven    =>  91.97 error = 35.03\n",
      "one hundred fifty four      =>  91.97 error = 62.03\n",
      "one hundred four            =>  91.97 error = 12.03\n",
      "seventy                     =>  91.97 error = 21.97\n",
      "one hundred fifteen         =>  91.97 error = 23.03\n",
      "nineteen                    =>  91.97 error = 72.97\n",
      "ninety                      =>  91.97 error = 1.97\n",
      "Mean error = 50.28237\n",
      "\n",
      "3/10 Epochs: 400 - loss=3099.281, loss improvement=11.889\n",
      "text => [predicted value] error=[error]\n",
      "fifty eight                 =>  94.91 error = 36.91\n",
      "four                        =>  94.91 error = 90.91\n",
      "thirty six                  =>  94.91 error = 58.91\n",
      "eleven                      =>  94.91 error = 83.91\n",
      "five                        =>  94.91 error = 89.91\n",
      "thirty                      =>  94.91 error = 64.91\n",
      "one hundred sixty           =>  94.91 error = 65.09\n",
      "one hundred forty four      =>  94.91 error = 49.09\n",
      "one hundred seventeen       =>  94.91 error = 22.09\n",
      "forty four                  =>  94.91 error = 50.91\n",
      "Mean error = 50.10465\n",
      "\n",
      "4/10 Epochs: 500 - loss=3098.948, loss improvement= 0.364\n",
      "text => [predicted value] error=[error]\n",
      "sixty two                   =>  95.42 error = 33.42\n",
      "seventy three               =>  95.42 error = 22.42\n",
      "one hundred seven           =>  95.42 error = 11.58\n",
      "ninety seven                =>  95.42 error = 1.58\n",
      "one hundred four            =>  95.42 error = 8.58\n",
      "zero                        =>  95.42 error = 95.42\n",
      "sixty nine                  =>  95.42 error = 26.42\n",
      "one hundred seventy four    =>  95.42 error = 78.58\n",
      "eighty six                  =>  95.42 error = 9.42\n",
      "one hundred thirty seven    =>  95.42 error = 41.58\n",
      "Mean error = 50.08274\n",
      "\n",
      "5/10 Epochs: 600 - loss=936.632, loss improvement=2162.159\n",
      "text => [predicted value] error=[error]\n",
      "one hundred sixty           =>  114.34 error = 45.66\n",
      "one hundred thirty eight    =>  114.35 error = 23.65\n",
      "eighty five                 =>  80.96 error = 4.04\n",
      "one hundred seventy         =>  114.34 error = 55.66\n",
      "one hundred sixty nine      =>  114.34 error = 54.66\n",
      "one hundred twenty one      =>  114.34 error = 6.66\n",
      "one hundred nine            =>  113.02 error = 4.02\n",
      "one hundred fifty seven     =>  114.35 error = 42.65\n",
      "one hundred twenty two      =>  114.35 error = 7.65\n",
      "one hundred sixteen         =>  114.34 error = 1.66\n",
      "Mean error = 27.635052\n",
      "\n",
      "6/10 Epochs: 700 - loss=278.337, loss improvement=650.226\n",
      "text => [predicted value] error=[error]\n",
      "fourteen                    =>  44.69 error = 30.69\n",
      "one hundred forty six       =>  140.57 error = 5.43\n",
      "one hundred forty           =>  139.75 error = 0.25\n",
      "one hundred eighty seven    =>  140.57 error = 46.43\n",
      "one hundred ninety nine     =>  140.57 error = 58.43\n",
      "ninety two                  =>  76.49 error = 15.51\n",
      "eighty one                  =>  76.77 error = 4.23\n",
      "seventeen                   =>  28.32 error = 11.32\n",
      "twenty four                 =>  23.79 error = 0.21\n",
      "one hundred ninety four     =>  140.58 error = 53.42\n",
      "Mean error = 15.204494\n",
      "\n",
      "7/10 Epochs: 800 - loss=187.990, loss improvement=86.821\n",
      "text => [predicted value] error=[error]\n",
      "six                         =>  4.74 error = 1.26\n",
      "twenty                      =>  20.96 error = 0.96\n",
      "sixty two                   =>  61.52 error = 0.48\n",
      "forty six                   =>  44.09 error = 1.91\n",
      "ninety two                  =>  81.34 error = 10.66\n",
      "one hundred ninety two      =>  147.98 error = 44.02\n",
      "one hundred eighty three    =>  147.95 error = 35.05\n",
      "one hundred eight           =>  105.96 error = 2.04\n",
      "fifty four                  =>  68.20 error = 14.20\n",
      "one hundred eighty three    =>  147.95 error = 35.05\n",
      "Mean error = 12.208396\n",
      "\n",
      "8/10 Epochs: 900 - loss=165.024, loss improvement=21.602\n",
      "text => [predicted value] error=[error]\n",
      "thirty three                =>  29.85 error = 3.15\n",
      "fifty five                  =>  58.32 error = 3.32\n",
      "twenty three                =>  24.30 error = 1.30\n",
      "twenty eight                =>  25.74 error = 2.26\n",
      "one hundred sixty one       =>  151.98 error = 9.02\n",
      "sixty                       =>  62.17 error = 2.17\n",
      "fourteen                    =>  35.97 error = 21.97\n",
      "ninety seven                =>  91.68 error = 5.32\n",
      "one hundred ten             =>  104.58 error = 5.42\n",
      "eighty six                  =>  88.51 error = 2.51\n",
      "Mean error = 10.659575\n",
      "\n",
      "9/10 Epochs: 1000 - loss=95.570, loss improvement=73.782\n",
      "text => [predicted value] error=[error]\n",
      "one hundred eighty nine     =>  158.50 error = 30.50\n",
      "seventeen                   =>  40.96 error = 23.96\n",
      "one hundred twenty seven    =>  127.83 error = 0.83\n",
      "one hundred thirty eight    =>  137.85 error = 0.15\n",
      "one hundred three           =>  110.95 error = 7.95\n",
      "sixty one                   =>  62.38 error = 1.38\n",
      "one hundred ninety three    =>  157.65 error = 35.35\n",
      "eighty                      =>  79.89 error = 0.11\n",
      "one hundred twenty nine     =>  123.65 error = 5.35\n",
      "one hundred thirty          =>  128.77 error = 1.23\n",
      "Mean error = 7.4975524\n",
      "Done\n"
     ]
    }
   ],
   "source": [
    "EPOCHS=100\n",
    "BATCH_SIZE = int(len(trainSamples)/4)\n",
    "print('Training with',len(trainSamples),'samples',EPOCHS,'epochs and batch_size=',BATCH_SIZE)\n",
    "for x in range(10):\n",
    "    H = model.fit(trainSamples, trainLabels, epochs=EPOCHS,verbose=0,batch_size=BATCH_SIZE)\n",
    "    num_epochs += EPOCHS\n",
    "    print(\"\\n{}/10 Epochs: {} - loss={:6.3f}, loss improvement={:6.3f}\".\n",
    "          format(x, num_epochs,H.history['loss'][-1], H.history['loss'][0]-H.history['loss'][-1]))\n",
    "    check_model()\n",
    "print(\"Done\")"
   ]
  },
  {
   "cell_type": "code",
   "execution_count": 12,
   "metadata": {},
   "outputs": [
    {
     "name": "stdout",
     "output_type": "stream",
     "text": [
      "text => [predicted value] error=[error]\n",
      "0 zero                        => 4.34 error = 4.34 [T]\n",
      "1 one                         => 6.63 error = 5.63 [T]\n",
      "2 two                         => 4.27 error = 2.27 [T]\n",
      "3 three                       => 5.80 error = 2.80 [T]\n",
      "4 four                        => 15.63 error = 11.63 \n",
      "5 five                        => 6.96 error = 1.96 \n",
      "6 six                         => 5.29 error = 0.71 [T]\n",
      "7 seven                       => 6.39 error = 0.61 [T]\n",
      "8 eight                       => 7.97 error = 0.03 [T]\n",
      "9 nine                        => 6.75 error = 2.25 [T]\n",
      "10 ten                         => 6.57 error = 3.43 [T]\n",
      "11 eleven                      => 8.13 error = 2.87 \n",
      "12 twelve                      => 3.92 error = 8.08 \n",
      "13 thirteen                    => 15.38 error = 2.38 \n",
      "14 fourteen                    => 32.13 error = 18.13 \n",
      "15 fifteen                     => 14.72 error = 0.28 [T]\n",
      "16 sixteen                     => 29.80 error = 13.80 \n",
      "17 seventeen                   => 40.96 error = 23.96 \n",
      "18 eighteen                    => 40.65 error = 22.65 \n",
      "19 nineteen                    => 27.46 error = 8.46 \n",
      "20 twenty                      => 22.99 error = 2.99 [T]\n",
      "21 twenty one                  => 22.77 error = 1.77 [T]\n",
      "22 twenty two                  => 23.70 error = 1.70 [T]\n",
      "23 twenty three                => 23.39 error = 0.39 [T]\n",
      "24 twenty four                 => 24.63 error = 0.63 [T]\n",
      "25 twenty five                 => 23.80 error = 1.20 [T]\n",
      "26 twenty six                  => 23.63 error = 2.37 [T]\n",
      "27 twenty seven                => 23.82 error = 3.18 \n",
      "28 twenty eight                => 28.71 error = 0.71 \n",
      "29 twenty nine                 => 23.33 error = 5.67 \n",
      "30 thirty                      => 32.01 error = 2.01 [T]\n",
      "31 thirty one                  => 29.62 error = 1.38 \n",
      "32 thirty two                  => 33.94 error = 1.94 [T]\n",
      "33 thirty three                => 31.71 error = 1.29 \n",
      "34 thirty four                 => 42.97 error = 8.97 \n",
      "35 thirty five                 => 39.53 error = 4.53 \n",
      "36 thirty six                  => 33.64 error = 2.36 \n",
      "37 thirty seven                => 39.05 error = 2.05 [T]\n",
      "38 thirty eight                => 56.19 error = 18.19 \n",
      "39 thirty nine                 => 32.12 error = 6.88 \n",
      "40 forty                       => 45.22 error = 5.22 \n",
      "41 forty one                   => 45.30 error = 4.30 [T]\n",
      "42 forty two                   => 49.12 error = 7.12 \n",
      "43 forty three                 => 46.09 error = 3.09 [T]\n",
      "44 forty four                  => 52.34 error = 8.34 \n",
      "45 forty five                  => 49.23 error = 4.23 \n",
      "46 forty six                   => 45.92 error = 0.08 [T]\n",
      "47 forty seven                 => 47.15 error = 0.15 \n",
      "48 forty eight                 => 55.94 error = 7.94 \n",
      "49 forty nine                  => 47.46 error = 1.54 [T]\n",
      "50 fifty                       => 51.28 error = 1.28 [T]\n",
      "51 fifty one                   => 53.67 error = 2.67 \n",
      "52 fifty two                   => 51.07 error = 0.93 [T]\n",
      "53 fifty three                 => 54.16 error = 1.16 \n",
      "54 fifty four                  => 63.92 error = 9.92 \n",
      "55 fifty five                  => 58.79 error = 3.79 [T]\n",
      "56 fifty six                   => 52.07 error = 3.93 \n",
      "57 fifty seven                 => 57.15 error = 0.15 [T]\n",
      "58 fifty eight                 => 67.52 error = 9.52 \n",
      "59 fifty nine                  => 56.63 error = 2.37 \n",
      "60 sixty                       => 63.63 error = 3.63 [T]\n",
      "61 sixty one                   => 62.38 error = 1.38 [T]\n",
      "62 sixty two                   => 63.76 error = 1.76 [T]\n",
      "63 sixty three                 => 63.13 error = 0.13 [T]\n",
      "64 sixty four                  => 64.69 error = 0.69 [T]\n",
      "65 sixty five                  => 64.15 error = 0.85 [T]\n",
      "66 sixty six                   => 62.40 error = 3.60 \n",
      "67 sixty seven                 => 63.95 error = 3.05 \n",
      "68 sixty eight                 => 65.73 error = 2.27 [T]\n",
      "69 sixty nine                  => 63.78 error = 5.22 \n",
      "70 seventy                     => 72.97 error = 2.97 [T]\n",
      "71 seventy one                 => 75.76 error = 4.76 [T]\n",
      "72 seventy two                 => 72.34 error = 0.34 [T]\n",
      "73 seventy three               => 75.95 error = 2.95 \n",
      "74 seventy four                => 77.45 error = 3.45 [T]\n",
      "75 seventy five                => 77.31 error = 2.31 [T]\n",
      "76 seventy six                 => 74.48 error = 1.52 [T]\n",
      "77 seventy seven               => 76.99 error = 0.01 [T]\n",
      "78 seventy eight               => 80.17 error = 2.17 \n",
      "79 seventy nine                => 76.85 error = 2.15 [T]\n",
      "80 eighty                      => 79.89 error = 0.11 [T]\n",
      "81 eighty one                  => 83.14 error = 2.14 \n",
      "82 eighty two                  => 84.84 error = 2.84 \n",
      "83 eighty three                => 85.07 error = 2.07 [T]\n",
      "84 eighty four                 => 85.90 error = 1.90 \n",
      "85 eighty five                 => 84.47 error = 0.53 [T]\n",
      "86 eighty six                  => 83.67 error = 2.33 [T]\n",
      "87 eighty seven                => 85.65 error = 1.35 [T]\n",
      "88 eighty eight                => 88.22 error = 0.22 [T]\n",
      "89 eighty nine                 => 84.22 error = 4.78 \n",
      "90 ninety                      => 81.95 error = 8.05 \n",
      "91 ninety one                  => 91.23 error = 0.23 [T]\n",
      "92 ninety two                  => 94.29 error = 2.29 [T]\n",
      "93 ninety three                => 93.59 error = 0.59 \n",
      "94 ninety four                 => 95.55 error = 1.55 \n",
      "95 ninety five                 => 93.60 error = 1.40 \n",
      "96 ninety six                  => 93.58 error = 2.42 [T]\n",
      "97 ninety seven                => 93.86 error = 3.14 \n",
      "98 ninety eight                => 94.71 error = 3.29 \n",
      "99 ninety nine                 => 92.93 error = 6.07 \n",
      "100 one hundred                 => 97.29 error = 2.71 [T]\n",
      "101 one hundred one             => 102.82 error = 1.82 [T]\n",
      "102 one hundred two             => 114.41 error = 12.41 \n",
      "103 one hundred three           => 110.95 error = 7.95 \n",
      "104 one hundred four            => 112.14 error = 8.14 [T]\n",
      "105 one hundred five            => 110.63 error = 5.63 \n",
      "106 one hundred six             => 111.29 error = 5.29 \n",
      "107 one hundred seven           => 111.47 error = 4.47 \n",
      "108 one hundred eight           => 111.69 error = 3.69 \n",
      "109 one hundred nine            => 109.72 error = 0.72 [T]\n",
      "110 one hundred ten             => 104.08 error = 5.92 \n",
      "111 one hundred eleven          => 111.77 error = 0.77 [T]\n",
      "112 one hundred twelve          => 113.60 error = 1.60 [T]\n",
      "113 one hundred thirteen        => 113.56 error = 0.56 \n",
      "114 one hundred fourteen        => 120.30 error = 6.30 \n",
      "115 one hundred fifteen         => 113.29 error = 1.71 [T]\n",
      "116 one hundred sixteen         => 114.85 error = 1.15 \n",
      "117 one hundred seventeen       => 119.50 error = 2.50 \n",
      "118 one hundred eighteen        => 115.06 error = 2.94 \n",
      "119 one hundred nineteen        => 116.54 error = 2.46 \n",
      "120 one hundred twenty          => 120.16 error = 0.16 \n",
      "121 one hundred twenty one      => 122.57 error = 1.57 [T]\n",
      "122 one hundred twenty two      => 125.51 error = 3.51 \n",
      "123 one hundred twenty three    => 123.84 error = 0.84 \n",
      "124 one hundred twenty four     => 127.04 error = 3.04 \n",
      "125 one hundred twenty five     => 124.07 error = 0.93 [T]\n",
      "126 one hundred twenty six      => 123.58 error = 2.42 [T]\n",
      "127 one hundred twenty seven    => 127.83 error = 0.83 \n",
      "128 one hundred twenty eight    => 132.20 error = 4.20 [T]\n",
      "129 one hundred twenty nine     => 123.65 error = 5.35 [T]\n",
      "130 one hundred thirty          => 128.77 error = 1.23 [T]\n",
      "131 one hundred thirty one      => 131.15 error = 0.15 [T]\n",
      "132 one hundred thirty two      => 144.91 error = 12.91 \n",
      "133 one hundred thirty three    => 130.66 error = 2.34 [T]\n",
      "134 one hundred thirty four     => 135.11 error = 1.11 [T]\n",
      "135 one hundred thirty five     => 132.12 error = 2.88 [T]\n",
      "136 one hundred thirty six      => 132.04 error = 3.96 \n",
      "137 one hundred thirty seven    => 132.46 error = 4.54 [T]\n",
      "138 one hundred thirty eight    => 137.85 error = 0.15 \n",
      "139 one hundred thirty nine     => 131.85 error = 7.15 [T]\n",
      "140 one hundred forty           => 146.36 error = 6.36 [T]\n",
      "141 one hundred forty one       => 144.54 error = 3.54 [T]\n",
      "142 one hundred forty two       => 153.50 error = 11.50 [T]\n",
      "143 one hundred forty three     => 147.77 error = 4.77 [T]\n",
      "144 one hundred forty four      => 150.45 error = 6.45 [T]\n",
      "145 one hundred forty five      => 149.40 error = 4.40 [T]\n",
      "146 one hundred forty six       => 147.25 error = 1.25 [T]\n",
      "147 one hundred forty seven     => 148.39 error = 1.39 [T]\n",
      "148 one hundred forty eight     => 151.41 error = 3.41 \n",
      "149 one hundred forty nine      => 147.76 error = 1.24 [T]\n",
      "150 one hundred fifty           => 158.30 error = 8.30 [T]\n",
      "151 one hundred fifty one       => 158.19 error = 7.19 [T]\n",
      "152 one hundred fifty two       => 158.36 error = 6.36 [T]\n",
      "153 one hundred fifty three     => 158.14 error = 5.14 \n",
      "154 one hundred fifty four      => 158.06 error = 4.06 \n",
      "155 one hundred fifty five      => 158.07 error = 3.07 [T]\n",
      "156 one hundred fifty six       => 158.02 error = 2.02 [T]\n",
      "157 one hundred fifty seven     => 158.15 error = 1.15 [T]\n",
      "158 one hundred fifty eight     => 158.34 error = 0.34 \n",
      "159 one hundred fifty nine      => 158.17 error = 0.83 \n",
      "160 one hundred sixty           => 157.41 error = 2.59 [T]\n",
      "161 one hundred sixty one       => 156.52 error = 4.48 \n",
      "162 one hundred sixty two       => 156.92 error = 5.08 \n",
      "163 one hundred sixty three     => 156.73 error = 6.27 [T]\n",
      "164 one hundred sixty four      => 157.42 error = 6.58 [T]\n",
      "165 one hundred sixty five      => 157.40 error = 7.60 \n",
      "166 one hundred sixty six       => 156.52 error = 9.48 \n",
      "167 one hundred sixty seven     => 157.26 error = 9.74 [T]\n",
      "168 one hundred sixty eight     => 157.98 error = 10.02 \n",
      "169 one hundred sixty nine      => 157.06 error = 11.94 [T]\n",
      "170 one hundred seventy         => 154.72 error = 15.28 [T]\n",
      "171 one hundred seventy one     => 153.41 error = 17.59 \n",
      "172 one hundred seventy two     => 157.74 error = 14.26 \n",
      "173 one hundred seventy three   => 153.01 error = 19.99 \n",
      "174 one hundred seventy four    => 155.29 error = 18.71 \n",
      "175 one hundred seventy five    => 154.40 error = 20.60 [T]\n",
      "176 one hundred seventy six     => 153.90 error = 22.10 \n",
      "177 one hundred seventy seven   => 151.30 error = 25.70 \n",
      "178 one hundred seventy eight   => 154.64 error = 23.36 [T]\n",
      "179 one hundred seventy nine    => 153.98 error = 25.02 \n",
      "180 one hundred eighty          => 158.58 error = 21.42 [T]\n",
      "181 one hundred eighty one      => 158.51 error = 22.49 \n",
      "182 one hundred eighty two      => 158.53 error = 23.47 [T]\n",
      "183 one hundred eighty three    => 158.50 error = 24.50 \n",
      "184 one hundred eighty four     => 158.49 error = 25.51 \n",
      "185 one hundred eighty five     => 158.50 error = 26.50 \n",
      "186 one hundred eighty six      => 158.47 error = 27.53 \n",
      "187 one hundred eighty seven    => 158.52 error = 28.48 \n",
      "188 one hundred eighty eight    => 158.57 error = 29.43 [T]\n",
      "189 one hundred eighty nine     => 158.50 error = 30.50 \n",
      "190 one hundred ninety          => 158.39 error = 31.61 [T]\n",
      "191 one hundred ninety one      => 157.78 error = 33.22 \n",
      "192 one hundred ninety two      => 158.31 error = 33.69 [T]\n",
      "193 one hundred ninety three    => 157.65 error = 35.35 \n",
      "194 one hundred ninety four     => 157.96 error = 36.04 \n",
      "195 one hundred ninety five     => 157.85 error = 37.15 \n",
      "196 one hundred ninety six      => 157.66 error = 38.34 [T]\n",
      "197 one hundred ninety seven    => 157.68 error = 39.32 \n",
      "198 one hundred ninety eight    => 158.13 error = 39.87 \n",
      "199 one hundred ninety nine     => 157.81 error = 41.19 \n",
      "Mean error = 7.4975524\n"
     ]
    },
    {
     "data": {
      "text/plain": [
       "7.4975524"
      ]
     },
     "execution_count": 12,
     "metadata": {},
     "output_type": "execute_result"
    }
   ],
   "source": [
    "import random\n",
    "\n",
    "def check_model(verbose=0,how_many=10):\n",
    "    pred = model.predict(samples)\n",
    "    print('text => [predicted value] error=[error]')\n",
    "    error = []\n",
    "    for i in range(len(pred)):\n",
    "        res = samples[i]\n",
    "        error.append(abs(i-pred[i]))\n",
    "        if verbose==1:\n",
    "            train = ''\n",
    "            if i in trainLabels: train='[T]'\n",
    "            print(i,to_text(res),'=> {:.2f} error = {:.2f}'.format(pred[i,0],abs(i-pred[i,0])),train)\n",
    "    if verbose<1: # if not verbose just display 'how_many' random samples\n",
    "        for i in range(how_many):        \n",
    "            x = random.randrange(DATASET_SIZE)\n",
    "            res = samples[x]\n",
    "            print(to_text(res),'=>  {:.2f} error = {:.2f}'.format(pred[x,0],abs(x-pred[x,0])))      \n",
    "    print('Mean error =',np.mean(error))        \n",
    "    return np.mean(error)\n",
    "check_model(1)"
   ]
  },
  {
   "cell_type": "code",
   "execution_count": 19,
   "metadata": {},
   "outputs": [
    {
     "data": {
      "text/plain": [
       "array([[116.47714]], dtype=float32)"
      ]
     },
     "execution_count": 19,
     "metadata": {},
     "output_type": "execute_result"
    }
   ],
   "source": [
    "\n",
    "x = to_number('one hundred thirty nine      ')\n",
    "#x = to_number('one hundred ninety nine     ')\n",
    "\n",
    "#              xxxxxxxxxxxxxxxxxxxxxxxxxxxxx\n",
    "x = np.expand_dims(x,axis=1)\n",
    "x = np.expand_dims(x,axis=0)\n",
    "model.predict(x)"
   ]
  },
  {
   "cell_type": "code",
   "execution_count": null,
   "metadata": {},
   "outputs": [],
   "source": [
    "model.save('model_words2numbers.h5')"
   ]
  }
 ],
 "metadata": {
  "kernelspec": {
   "display_name": "Python 3",
   "language": "python",
   "name": "python3"
  },
  "language_info": {
   "codemirror_mode": {
    "name": "ipython",
    "version": 3
   },
   "file_extension": ".py",
   "mimetype": "text/x-python",
   "name": "python",
   "nbconvert_exporter": "python",
   "pygments_lexer": "ipython3",
   "version": "3.8.5"
  }
 },
 "nbformat": 4,
 "nbformat_minor": 4
}
