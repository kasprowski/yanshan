{
 "cells": [
  {
   "cell_type": "code",
   "execution_count": 1,
   "metadata": {
    "scrolled": true
   },
   "outputs": [],
   "source": [
    "from tensorflow.keras.models import Sequential\n",
    "from tensorflow.keras.layers import Dense\n",
    "import pandas as pd\n",
    "import numpy as np\n",
    "import sklearn\n",
    "import tensorflow as tf\n",
    "from sklearn.metrics import classification_report, confusion_matrix, accuracy_score, cohen_kappa_score"
   ]
  },
  {
   "cell_type": "markdown",
   "metadata": {},
   "source": [
    "## Build the network (model)"
   ]
  },
  {
   "cell_type": "code",
   "execution_count": 2,
   "metadata": {},
   "outputs": [
    {
     "name": "stdout",
     "output_type": "stream",
     "text": [
      "Model: \"sequential\"\n",
      "_________________________________________________________________\n",
      "Layer (type)                 Output Shape              Param #   \n",
      "=================================================================\n",
      "dense (Dense)                (None, 50)                250       \n",
      "_________________________________________________________________\n",
      "dense_1 (Dense)              (None, 50)                2550      \n",
      "_________________________________________________________________\n",
      "dense_2 (Dense)              (None, 1)                 51        \n",
      "=================================================================\n",
      "Total params: 2,851\n",
      "Trainable params: 2,851\n",
      "Non-trainable params: 0\n",
      "_________________________________________________________________\n"
     ]
    }
   ],
   "source": [
    "model = Sequential()\n",
    "model.add(Dense(50, input_dim=4, activation='sigmoid'))\n",
    "model.add(Dense(50, activation='sigmoid'))\n",
    "model.add(Dense(1, activation='sigmoid'))\n",
    "model.summary()"
   ]
  },
  {
   "cell_type": "markdown",
   "metadata": {},
   "source": [
    "## Load data (and remove one class)"
   ]
  },
  {
   "cell_type": "code",
   "execution_count": 4,
   "metadata": {},
   "outputs": [
    {
     "name": "stdout",
     "output_type": "stream",
     "text": [
      "Rows: 150\n",
      "Rows after removal of 'Iris-virginica': 100\n"
     ]
    }
   ],
   "source": [
    "data = pd.read_csv('iris.data')\n",
    "print(\"Rows:\",len(data))\n",
    "data = data.drop(data[data.iris=='Iris-virginica'].index)\n",
    "print(\"Rows after removal of 'Iris-virginica':\",len(data))"
   ]
  },
  {
   "cell_type": "markdown",
   "metadata": {},
   "source": [
    "## Prepare samples and labels"
   ]
  },
  {
   "cell_type": "code",
   "execution_count": 5,
   "metadata": {},
   "outputs": [
    {
     "name": "stdout",
     "output_type": "stream",
     "text": [
      "Classes: {'Iris-setosa', 'Iris-versicolor'}\n",
      "Classes after renaming: {0.0, 1.0}\n",
      "Samples: (100, 4)\n",
      "Labels: (100,)\n"
     ]
    }
   ],
   "source": [
    "print(\"Classes:\",set(data['iris']))\n",
    "samples = data.to_numpy()[:,:4]\n",
    "samples = samples.astype(float)\n",
    "labels = data.to_numpy()[:,4]\n",
    "\n",
    "labels[labels[:]=='Iris-versicolor']=0\n",
    "labels[labels[:]=='Iris-setosa']=1\n",
    "#labels[labels[:]=='Iris-virginica']=2\n",
    "labels = labels.astype(float)\n",
    "print(\"Classes after renaming:\",set(labels))\n",
    "\n",
    "print(\"Samples:\",samples.shape)\n",
    "print(\"Labels:\",labels.shape)\n"
   ]
  },
  {
   "cell_type": "markdown",
   "metadata": {},
   "source": [
    "## Compile and fit model"
   ]
  },
  {
   "cell_type": "code",
   "execution_count": 6,
   "metadata": {},
   "outputs": [],
   "source": [
    "import sklearn.model_selection\n",
    "(trainSamples, testSamples, trainLabels, testLabels) = sklearn.model_selection.train_test_split(samples, labels, random_state=1)\n",
    "\n",
    "model.compile(loss='binary_crossentropy', optimizer=\"adam\",metrics=['accuracy'])"
   ]
  },
  {
   "cell_type": "code",
   "execution_count": 9,
   "metadata": {},
   "outputs": [
    {
     "name": "stdout",
     "output_type": "stream",
     "text": [
      "Epoch 1/5\n",
      "1/8 [==>...........................] - ETA: 0s - loss: 0.5652 - accuracy: 1.0000WARNING:tensorflow:Callbacks method `on_train_batch_end` is slow compared to the batch time (batch time: 0.0000s vs `on_train_batch_end` time: 0.0010s). Check your callbacks.\n",
      "8/8 [==============================] - 0s 1ms/step - loss: 0.5585 - accuracy: 1.0000\n",
      "Epoch 2/5\n",
      "8/8 [==============================] - 0s 750us/step - loss: 0.5392 - accuracy: 0.9867\n",
      "Epoch 3/5\n",
      "8/8 [==============================] - 0s 875us/step - loss: 0.5193 - accuracy: 0.9867\n",
      "Epoch 4/5\n",
      "8/8 [==============================] - 0s 1ms/step - loss: 0.4965 - accuracy: 0.9867\n",
      "Epoch 5/5\n",
      "8/8 [==============================] - 0s 2ms/step - loss: 0.4784 - accuracy: 1.0000\n"
     ]
    }
   ],
   "source": [
    "H = model.fit(trainSamples, trainLabels, epochs=5,batch_size=10)    "
   ]
  },
  {
   "cell_type": "markdown",
   "metadata": {},
   "source": [
    "## Evaluate model"
   ]
  },
  {
   "cell_type": "code",
   "execution_count": 10,
   "metadata": {},
   "outputs": [
    {
     "name": "stdout",
     "output_type": "stream",
     "text": [
      "[[0 0 1 0 0 1 1 0 0 0 0 1 0 0 0 1 1 1 0 1 1 0 0 0 1]]\n",
      "[[15  0]\n",
      " [ 0 10]]\n",
      "              precision    recall  f1-score   support\n",
      "\n",
      "         0.0       1.00      1.00      1.00        15\n",
      "         1.0       1.00      1.00      1.00        10\n",
      "\n",
      "    accuracy                           1.00        25\n",
      "   macro avg       1.00      1.00      1.00        25\n",
      "weighted avg       1.00      1.00      1.00        25\n",
      "\n",
      "Cohen's Kappa: 1.0\n",
      "Accuracy:  1.0\n"
     ]
    }
   ],
   "source": [
    "testResults = model.predict(testSamples)\n",
    "testResults = (testResults*2).astype(dtype=int) #conversion to (0,1)\n",
    "print(testResults.T)\n",
    "print(confusion_matrix(testLabels, testResults))\n",
    "print(classification_report(testLabels, testResults))\n",
    "print(\"Cohen's Kappa: {}\".format(cohen_kappa_score(testLabels, testResults)))\n",
    "print(\"Accuracy: \",accuracy_score(testLabels, testResults))\n"
   ]
  },
  {
   "cell_type": "markdown",
   "metadata": {},
   "source": [
    "# Dataset with three classes"
   ]
  },
  {
   "cell_type": "code",
   "execution_count": 11,
   "metadata": {},
   "outputs": [
    {
     "name": "stdout",
     "output_type": "stream",
     "text": [
      "Rows: 150\n",
      "Classes: {'Iris-virginica', 'Iris-versicolor', 'Iris-setosa'}\n",
      "Samples: (150, 4)\n",
      "Labels: (150,)\n"
     ]
    }
   ],
   "source": [
    "data = pd.read_csv('iris.data')\n",
    "print(\"Rows:\",len(data))\n",
    "print(\"Classes:\",set(data['iris']))\n",
    "samples = data.to_numpy()[:,:4] \n",
    "labels = data.to_numpy()[:,4]\n",
    "samples = samples.astype(float)\n",
    "\n",
    "labels[labels[:]=='Iris-versicolor']=0\n",
    "labels[labels[:]=='Iris-setosa']=1\n",
    "labels[labels[:]=='Iris-virginica']=2\n",
    "labels = labels.astype(float)\n",
    "\n",
    "print(\"Samples:\",samples.shape)\n",
    "print(\"Labels:\",labels.shape)"
   ]
  },
  {
   "cell_type": "code",
   "execution_count": 12,
   "metadata": {},
   "outputs": [],
   "source": [
    "import sklearn.model_selection\n",
    "(trainSamples, testSamples, trainLabels, testLabels) = sklearn.model_selection.train_test_split(samples, labels)"
   ]
  },
  {
   "cell_type": "code",
   "execution_count": 13,
   "metadata": {},
   "outputs": [],
   "source": [
    "model.compile(loss='binary_crossentropy', optimizer=\"adam\",metrics=['accuracy'])\n",
    "#model.compile(loss='sparse_categorical_crossentropy', optimizer=\"adam\",metrics=['accuracy'])\n",
    "#model.compile(loss='categorical_crossentropy', optimizer=\"adam\",metrics=['accuracy'])"
   ]
  },
  {
   "cell_type": "code",
   "execution_count": 17,
   "metadata": {},
   "outputs": [
    {
     "name": "stdout",
     "output_type": "stream",
     "text": [
      "Epoch 1/10\n",
      "12/12 [==============================] - 0s 2ms/step - loss: -0.0431 - accuracy: 0.3482\n",
      "Epoch 2/10\n",
      "12/12 [==============================] - 0s 2ms/step - loss: -0.0456 - accuracy: 0.3482\n",
      "Epoch 3/10\n",
      "12/12 [==============================] - 0s 3ms/step - loss: -0.0496 - accuracy: 0.3482\n",
      "Epoch 4/10\n",
      "12/12 [==============================] - 0s 3ms/step - loss: -0.0517 - accuracy: 0.3482\n",
      "Epoch 5/10\n",
      "12/12 [==============================] - 0s 3ms/step - loss: -0.0564 - accuracy: 0.3482\n",
      "Epoch 6/10\n",
      "12/12 [==============================] - 0s 4ms/step - loss: -0.0586 - accuracy: 0.3482\n",
      "Epoch 7/10\n",
      "12/12 [==============================] - 0s 3ms/step - loss: -0.0634 - accuracy: 0.3482\n",
      "Epoch 8/10\n",
      "12/12 [==============================] - 0s 3ms/step - loss: -0.0656 - accuracy: 0.3482\n",
      "Epoch 9/10\n",
      "12/12 [==============================] - 0s 2ms/step - loss: -0.0717 - accuracy: 0.3482\n",
      "Epoch 10/10\n",
      "12/12 [==============================] - 0s 3ms/step - loss: -0.0729 - accuracy: 0.3482\n"
     ]
    }
   ],
   "source": [
    "H = model.fit(trainSamples, trainLabels, epochs=10,batch_size=10)    "
   ]
  },
  {
   "cell_type": "markdown",
   "metadata": {},
   "source": [
    "## Evaluate model"
   ]
  },
  {
   "cell_type": "code",
   "execution_count": 18,
   "metadata": {},
   "outputs": [
    {
     "name": "stdout",
     "output_type": "stream",
     "text": [
      "[[1 1 1 1 1 1 1 1 1 1 1 1 1 1 1 1 1 1 1 1 1 1 1 1 1 1 1 1 1 1 1 1 1 1 1 1\n",
      "  1 1]]\n",
      "[[ 0 14  0]\n",
      " [ 0 11  0]\n",
      " [ 0 13  0]]\n",
      "              precision    recall  f1-score   support\n",
      "\n",
      "         0.0       0.00      0.00      0.00        14\n",
      "         1.0       0.29      1.00      0.45        11\n",
      "         2.0       0.00      0.00      0.00        13\n",
      "\n",
      "    accuracy                           0.29        38\n",
      "   macro avg       0.10      0.33      0.15        38\n",
      "weighted avg       0.08      0.29      0.13        38\n",
      "\n",
      "Cohen's Kappa: 0.0\n",
      "Accuracy:  0.2894736842105263\n"
     ]
    }
   ],
   "source": [
    "testResults = model.predict(testSamples)\n",
    "testResults = (testResults*2).astype(dtype=int) #conversion to (0,1)\n",
    "print(testResults.T)\n",
    "print(confusion_matrix(testLabels, testResults))\n",
    "print(classification_report(testLabels, testResults))\n",
    "print(\"Cohen's Kappa: {}\".format(cohen_kappa_score(testLabels, testResults)))\n",
    "print(\"Accuracy: \",accuracy_score(testLabels, testResults))"
   ]
  },
  {
   "cell_type": "markdown",
   "metadata": {},
   "source": [
    "What is the problem?\n",
    "The output is a number - no way that ANN learns the proper output!"
   ]
  },
  {
   "cell_type": "markdown",
   "metadata": {},
   "source": [
    "## Change to one-hot encoding"
   ]
  },
  {
   "cell_type": "code",
   "execution_count": 19,
   "metadata": {},
   "outputs": [
    {
     "name": "stdout",
     "output_type": "stream",
     "text": [
      "(150,)\n",
      "(150, 3)\n"
     ]
    }
   ],
   "source": [
    "print(labels.shape)\n",
    "labels = tf.keras.utils.to_categorical(labels)\n",
    "print(labels.shape)"
   ]
  },
  {
   "cell_type": "markdown",
   "metadata": {},
   "source": [
    "## New model (output: vector of 3 values)"
   ]
  },
  {
   "cell_type": "code",
   "execution_count": 20,
   "metadata": {},
   "outputs": [
    {
     "name": "stdout",
     "output_type": "stream",
     "text": [
      "Model: \"sequential_1\"\n",
      "_________________________________________________________________\n",
      "Layer (type)                 Output Shape              Param #   \n",
      "=================================================================\n",
      "dense_3 (Dense)              (None, 50)                250       \n",
      "_________________________________________________________________\n",
      "dense_4 (Dense)              (None, 50)                2550      \n",
      "_________________________________________________________________\n",
      "dense_5 (Dense)              (None, 3)                 153       \n",
      "=================================================================\n",
      "Total params: 2,953\n",
      "Trainable params: 2,953\n",
      "Non-trainable params: 0\n",
      "_________________________________________________________________\n"
     ]
    }
   ],
   "source": [
    "model = Sequential()\n",
    "model.add(Dense(50, input_dim=4, activation='sigmoid'))\n",
    "model.add(Dense(50, activation='sigmoid'))\n",
    "#model.add(Dense(1, activation='sigmoid'))\n",
    "#model.add(Dense(3, activation='sigmoid')) # three values\n",
    "model.add(Dense(3, activation='softmax')) # three values and normalization (output sums to 1)\n",
    "\n",
    "model.summary()"
   ]
  },
  {
   "cell_type": "markdown",
   "metadata": {},
   "source": [
    "### Train model"
   ]
  },
  {
   "cell_type": "code",
   "execution_count": 21,
   "metadata": {},
   "outputs": [],
   "source": [
    "(trainSamples, testSamples, trainLabels, testLabels) = sklearn.model_selection.train_test_split(samples, labels, random_state=1)\n",
    "#model.compile(loss='binary_crossentropy', optimizer=\"adam\",metrics=['accuracy'])\n",
    "model.compile(loss='categorical_crossentropy', optimizer=\"adam\",metrics=['accuracy'])"
   ]
  },
  {
   "cell_type": "code",
   "execution_count": 24,
   "metadata": {},
   "outputs": [
    {
     "name": "stdout",
     "output_type": "stream",
     "text": [
      "Epoch 1/10\n",
      "12/12 [==============================] - 0s 10ms/step - loss: 0.5175 - accuracy: 0.8125 - val_loss: 0.5273 - val_accuracy: 0.6842\n",
      "Epoch 2/10\n",
      "12/12 [==============================] - 0s 5ms/step - loss: 0.4998 - accuracy: 0.8214 - val_loss: 0.5224 - val_accuracy: 0.6316\n",
      "Epoch 3/10\n",
      "12/12 [==============================] - 0s 5ms/step - loss: 0.4851 - accuracy: 0.8214 - val_loss: 0.5040 - val_accuracy: 0.6842\n",
      "Epoch 4/10\n",
      "12/12 [==============================] - 0s 4ms/step - loss: 0.4709 - accuracy: 0.7857 - val_loss: 0.5026 - val_accuracy: 0.6316\n",
      "Epoch 5/10\n",
      "12/12 [==============================] - 0s 6ms/step - loss: 0.4620 - accuracy: 0.8393 - val_loss: 0.4733 - val_accuracy: 0.7632\n",
      "Epoch 6/10\n",
      "12/12 [==============================] - 0s 4ms/step - loss: 0.4457 - accuracy: 0.8750 - val_loss: 0.4643 - val_accuracy: 0.7632\n",
      "Epoch 7/10\n",
      "12/12 [==============================] - 0s 4ms/step - loss: 0.4350 - accuracy: 0.8750 - val_loss: 0.4479 - val_accuracy: 0.8158\n",
      "Epoch 8/10\n",
      "12/12 [==============================] - 0s 7ms/step - loss: 0.4241 - accuracy: 0.9107 - val_loss: 0.4384 - val_accuracy: 0.8158\n",
      "Epoch 9/10\n",
      "12/12 [==============================] - 0s 5ms/step - loss: 0.4153 - accuracy: 0.9286 - val_loss: 0.4181 - val_accuracy: 0.9737\n",
      "Epoch 10/10\n",
      "12/12 [==============================] - 0s 5ms/step - loss: 0.4048 - accuracy: 0.9375 - val_loss: 0.4136 - val_accuracy: 0.9737\n"
     ]
    }
   ],
   "source": [
    "H = model.fit(trainSamples, trainLabels, epochs=10,batch_size=10, validation_data=(testSamples,testLabels))    "
   ]
  },
  {
   "cell_type": "markdown",
   "metadata": {},
   "source": [
    "### Evaluate model (it is one-hot encoded!)"
   ]
  },
  {
   "cell_type": "code",
   "execution_count": 13,
   "metadata": {},
   "outputs": [
    {
     "name": "stdout",
     "output_type": "stream",
     "text": [
      "[[0.40282774]\n",
      " [0.36920965]\n",
      " [0.66562223]\n",
      " [0.41259152]\n",
      " [0.43908626]\n",
      " [0.64592314]\n",
      " [0.65072393]\n",
      " [0.39889738]\n",
      " [0.39919817]\n",
      " [0.36968005]\n",
      " [0.39081076]\n",
      " [0.6410374 ]\n",
      " [0.3572889 ]\n",
      " [0.3432365 ]\n",
      " [0.3663659 ]\n",
      " [0.6662994 ]\n",
      " [0.62503636]\n",
      " [0.6157006 ]\n",
      " [0.3616761 ]\n",
      " [0.6452378 ]\n",
      " [0.6558031 ]\n",
      " [0.35942048]\n",
      " [0.37656087]\n",
      " [0.38609242]\n",
      " [0.64861643]]\n",
      "[0 0 0 0 0 0 0 0 0 0 0 0 0 0 0 0 0 0 0 0 0 0 0 0 0]\n"
     ]
    },
    {
     "ename": "AxisError",
     "evalue": "axis 1 is out of bounds for array of dimension 1",
     "output_type": "error",
     "traceback": [
      "\u001b[1;31m---------------------------------------------------------------------------\u001b[0m",
      "\u001b[1;31mAxisError\u001b[0m                                 Traceback (most recent call last)",
      "\u001b[1;32m<ipython-input-13-f88e1dc13362>\u001b[0m in \u001b[0;36m<module>\u001b[1;34m\u001b[0m\n\u001b[0;32m      3\u001b[0m \u001b[0mprint\u001b[0m\u001b[1;33m(\u001b[0m\u001b[0mtestResults\u001b[0m\u001b[1;33m.\u001b[0m\u001b[0margmax\u001b[0m\u001b[1;33m(\u001b[0m\u001b[0maxis\u001b[0m\u001b[1;33m=\u001b[0m\u001b[1;36m1\u001b[0m\u001b[1;33m)\u001b[0m\u001b[1;33m)\u001b[0m\u001b[1;33m\u001b[0m\u001b[1;33m\u001b[0m\u001b[0m\n\u001b[0;32m      4\u001b[0m \u001b[1;33m\u001b[0m\u001b[0m\n\u001b[1;32m----> 5\u001b[1;33m \u001b[0mprint\u001b[0m\u001b[1;33m(\u001b[0m\u001b[0mconfusion_matrix\u001b[0m\u001b[1;33m(\u001b[0m\u001b[0mtestLabels\u001b[0m\u001b[1;33m.\u001b[0m\u001b[0margmax\u001b[0m\u001b[1;33m(\u001b[0m\u001b[0maxis\u001b[0m\u001b[1;33m=\u001b[0m\u001b[1;36m1\u001b[0m\u001b[1;33m)\u001b[0m\u001b[1;33m,\u001b[0m \u001b[0mtestResults\u001b[0m\u001b[1;33m.\u001b[0m\u001b[0margmax\u001b[0m\u001b[1;33m(\u001b[0m\u001b[0maxis\u001b[0m\u001b[1;33m=\u001b[0m\u001b[1;36m1\u001b[0m\u001b[1;33m)\u001b[0m\u001b[1;33m)\u001b[0m\u001b[1;33m)\u001b[0m\u001b[1;33m\u001b[0m\u001b[1;33m\u001b[0m\u001b[0m\n\u001b[0m\u001b[0;32m      6\u001b[0m \u001b[0mprint\u001b[0m\u001b[1;33m(\u001b[0m\u001b[0mclassification_report\u001b[0m\u001b[1;33m(\u001b[0m\u001b[0mtestLabels\u001b[0m\u001b[1;33m.\u001b[0m\u001b[0margmax\u001b[0m\u001b[1;33m(\u001b[0m\u001b[0maxis\u001b[0m\u001b[1;33m=\u001b[0m\u001b[1;36m1\u001b[0m\u001b[1;33m)\u001b[0m\u001b[1;33m,\u001b[0m \u001b[0mtestResults\u001b[0m\u001b[1;33m.\u001b[0m\u001b[0margmax\u001b[0m\u001b[1;33m(\u001b[0m\u001b[0maxis\u001b[0m\u001b[1;33m=\u001b[0m\u001b[1;36m1\u001b[0m\u001b[1;33m)\u001b[0m\u001b[1;33m)\u001b[0m\u001b[1;33m)\u001b[0m\u001b[1;33m\u001b[0m\u001b[1;33m\u001b[0m\u001b[0m\n\u001b[0;32m      7\u001b[0m \u001b[0mprint\u001b[0m\u001b[1;33m(\u001b[0m\u001b[1;34m\"Cohen's Kappa: {}\"\u001b[0m\u001b[1;33m.\u001b[0m\u001b[0mformat\u001b[0m\u001b[1;33m(\u001b[0m\u001b[0mcohen_kappa_score\u001b[0m\u001b[1;33m(\u001b[0m\u001b[0mtestLabels\u001b[0m\u001b[1;33m.\u001b[0m\u001b[0margmax\u001b[0m\u001b[1;33m(\u001b[0m\u001b[0maxis\u001b[0m\u001b[1;33m=\u001b[0m\u001b[1;36m1\u001b[0m\u001b[1;33m)\u001b[0m\u001b[1;33m,\u001b[0m \u001b[0mtestResults\u001b[0m\u001b[1;33m.\u001b[0m\u001b[0margmax\u001b[0m\u001b[1;33m(\u001b[0m\u001b[0maxis\u001b[0m\u001b[1;33m=\u001b[0m\u001b[1;36m1\u001b[0m\u001b[1;33m)\u001b[0m\u001b[1;33m)\u001b[0m\u001b[1;33m)\u001b[0m\u001b[1;33m)\u001b[0m\u001b[1;33m\u001b[0m\u001b[1;33m\u001b[0m\u001b[0m\n",
      "\u001b[1;31mAxisError\u001b[0m: axis 1 is out of bounds for array of dimension 1"
     ]
    }
   ],
   "source": [
    "testResults = model.predict(testSamples)\n",
    "print(testResults)\n",
    "print(testResults.argmax(axis=1))\n",
    "\n",
    "print(confusion_matrix(testLabels.argmax(axis=1), testResults.argmax(axis=1)))\n",
    "print(classification_report(testLabels.argmax(axis=1), testResults.argmax(axis=1)))\n",
    "print(\"Cohen's Kappa: {}\".format(cohen_kappa_score(testLabels.argmax(axis=1), testResults.argmax(axis=1))))\n",
    "print(\"Accuracy: \",accuracy_score(testLabels.argmax(axis=1), testResults.argmax(axis=1)))\n"
   ]
  },
  {
   "cell_type": "code",
   "execution_count": 14,
   "metadata": {},
   "outputs": [
    {
     "name": "stdout",
     "output_type": "stream",
     "text": [
      "[[1, 2, 3, 4]] -> [[0.39046293]]\n",
      "[0.39081076] -> 0.0\n",
      "[0.6410374] -> 1.0\n",
      "[0.3572889] -> 0.0\n",
      "[0.3432365] -> 0.0\n"
     ]
    }
   ],
   "source": [
    "sample = [[1,2,3,4]]\n",
    "pred = model.predict(sample)\n",
    "print(sample,'->',pred)\n",
    "\n",
    "pred = model.predict(testSamples[10:14])\n",
    "for p,t in zip(pred[0:4],testLabels[10:14]):\n",
    "    print(p,\"->\",t)\n"
   ]
  },
  {
   "cell_type": "code",
   "execution_count": 12,
   "metadata": {},
   "outputs": [],
   "source": [
    "model.save('iris.h5')"
   ]
  }
 ],
 "metadata": {
  "kernelspec": {
   "display_name": "Python 3",
   "language": "python",
   "name": "python3"
  },
  "language_info": {
   "codemirror_mode": {
    "name": "ipython",
    "version": 3
   },
   "file_extension": ".py",
   "mimetype": "text/x-python",
   "name": "python",
   "nbconvert_exporter": "python",
   "pygments_lexer": "ipython3",
   "version": "3.8.5"
  }
 },
 "nbformat": 4,
 "nbformat_minor": 4
}
