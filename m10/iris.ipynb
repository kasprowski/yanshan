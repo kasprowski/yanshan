{
 "cells": [
  {
   "cell_type": "code",
   "execution_count": 1,
   "metadata": {
    "scrolled": true
   },
   "outputs": [],
   "source": [
    "from tensorflow.keras.models import Sequential\n",
    "from tensorflow.keras.layers import Dense\n",
    "import pandas as pd\n",
    "import numpy as np\n",
    "import sklearn\n",
    "import tensorflow as tf\n",
    "from sklearn.metrics import classification_report, confusion_matrix, accuracy_score, cohen_kappa_score"
   ]
  },
  {
   "cell_type": "markdown",
   "metadata": {},
   "source": [
    "## Build the network (model)"
   ]
  },
  {
   "cell_type": "code",
   "execution_count": 2,
   "metadata": {},
   "outputs": [
    {
     "name": "stdout",
     "output_type": "stream",
     "text": [
      "Rows: 150\n",
      "Classes: {'Iris-setosa', 'Iris-virginica', 'Iris-versicolor'}\n",
      "Samples: (150, 4)\n",
      "Labels: (150,)\n"
     ]
    }
   ],
   "source": [
    "data = pd.read_csv('iris.data')\n",
    "print(\"Rows:\",len(data))\n",
    "print(\"Classes:\",set(data['iris']))\n",
    "samples = data.to_numpy()[:,:4] \n",
    "labels = data.to_numpy()[:,4]\n",
    "samples = samples.astype(float)\n",
    "\n",
    "labels[labels[:]=='Iris-versicolor']=0\n",
    "labels[labels[:]=='Iris-setosa']=1\n",
    "labels[labels[:]=='Iris-virginica']=2\n",
    "labels = labels.astype(float)\n",
    "\n",
    "print(\"Samples:\",samples.shape)\n",
    "print(\"Labels:\",labels.shape)"
   ]
  },
  {
   "cell_type": "markdown",
   "metadata": {},
   "source": [
    "## Change to one-hot encoding"
   ]
  },
  {
   "cell_type": "code",
   "execution_count": 3,
   "metadata": {},
   "outputs": [
    {
     "name": "stdout",
     "output_type": "stream",
     "text": [
      "(150,)\n",
      "(150, 3)\n"
     ]
    }
   ],
   "source": [
    "print(labels.shape)\n",
    "labels = tf.keras.utils.to_categorical(labels)\n",
    "print(labels.shape)"
   ]
  },
  {
   "cell_type": "markdown",
   "metadata": {},
   "source": [
    "## New model (output: vector of 3 values)"
   ]
  },
  {
   "cell_type": "code",
   "execution_count": 4,
   "metadata": {},
   "outputs": [
    {
     "name": "stdout",
     "output_type": "stream",
     "text": [
      "Model: \"sequential\"\n",
      "_________________________________________________________________\n",
      "Layer (type)                 Output Shape              Param #   \n",
      "=================================================================\n",
      "dense (Dense)                (None, 50)                250       \n",
      "_________________________________________________________________\n",
      "dense_1 (Dense)              (None, 50)                2550      \n",
      "_________________________________________________________________\n",
      "dense_2 (Dense)              (None, 3)                 153       \n",
      "=================================================================\n",
      "Total params: 2,953\n",
      "Trainable params: 2,953\n",
      "Non-trainable params: 0\n",
      "_________________________________________________________________\n"
     ]
    }
   ],
   "source": [
    "model = Sequential()\n",
    "model.add(Dense(50, input_dim=4, activation='sigmoid'))\n",
    "model.add(Dense(50, activation='sigmoid'))\n",
    "model.add(Dense(3, activation='softmax')) # three values and normalization (output sums to 1)\n",
    "\n",
    "model.summary()"
   ]
  },
  {
   "cell_type": "markdown",
   "metadata": {},
   "source": [
    "### Train model"
   ]
  },
  {
   "cell_type": "code",
   "execution_count": 5,
   "metadata": {},
   "outputs": [],
   "source": [
    "import sklearn.model_selection\n",
    "(trainSamples, testSamples, trainLabels, testLabels) = sklearn.model_selection.train_test_split(samples, labels, random_state=1)\n",
    "model.compile(loss='categorical_crossentropy', optimizer=\"adam\",metrics=['accuracy'])"
   ]
  },
  {
   "cell_type": "code",
   "execution_count": 8,
   "metadata": {},
   "outputs": [
    {
     "name": "stdout",
     "output_type": "stream",
     "text": [
      "Epoch 1/10\n",
      "12/12 [==============================] - 0s 4ms/step - loss: 0.5077 - accuracy: 0.7857 - val_loss: 0.5249 - val_accuracy: 0.6579\n",
      "Epoch 2/10\n",
      "12/12 [==============================] - 0s 2ms/step - loss: 0.4946 - accuracy: 0.8750 - val_loss: 0.4980 - val_accuracy: 0.7895\n",
      "Epoch 3/10\n",
      "12/12 [==============================] - 0s 2ms/step - loss: 0.4785 - accuracy: 0.8482 - val_loss: 0.4982 - val_accuracy: 0.6842\n",
      "Epoch 4/10\n",
      "12/12 [==============================] - 0s 2ms/step - loss: 0.4638 - accuracy: 0.8661 - val_loss: 0.4768 - val_accuracy: 0.7632\n",
      "Epoch 5/10\n",
      "12/12 [==============================] - 0s 2ms/step - loss: 0.4503 - accuracy: 0.8839 - val_loss: 0.4599 - val_accuracy: 0.8158\n",
      "Epoch 6/10\n",
      "12/12 [==============================] - 0s 3ms/step - loss: 0.4405 - accuracy: 0.9107 - val_loss: 0.4446 - val_accuracy: 0.9474\n",
      "Epoch 7/10\n",
      "12/12 [==============================] - 0s 2ms/step - loss: 0.4285 - accuracy: 0.9196 - val_loss: 0.4404 - val_accuracy: 0.8158\n",
      "Epoch 8/10\n",
      "12/12 [==============================] - 0s 3ms/step - loss: 0.4200 - accuracy: 0.8839 - val_loss: 0.4375 - val_accuracy: 0.8158\n",
      "Epoch 9/10\n",
      "12/12 [==============================] - 0s 3ms/step - loss: 0.4076 - accuracy: 0.9018 - val_loss: 0.4176 - val_accuracy: 0.9737\n",
      "Epoch 10/10\n",
      "12/12 [==============================] - 0s 2ms/step - loss: 0.3988 - accuracy: 0.9375 - val_loss: 0.4084 - val_accuracy: 0.9737\n"
     ]
    }
   ],
   "source": [
    "H = model.fit(trainSamples, trainLabels, epochs=10,batch_size=10, validation_data=(testSamples,testLabels))    "
   ]
  },
  {
   "cell_type": "markdown",
   "metadata": {},
   "source": [
    "### Evaluate model (it is one-hot encoded!)"
   ]
  },
  {
   "cell_type": "code",
   "execution_count": 9,
   "metadata": {},
   "outputs": [
    {
     "name": "stdout",
     "output_type": "stream",
     "text": [
      "[[0.03362826 0.96403205 0.00233973]\n",
      " [0.5341833  0.2646086  0.201208  ]\n",
      " [0.5189156  0.06004384 0.4210406 ]\n",
      " [0.04380843 0.9528041  0.00338749]\n",
      " [0.3288432  0.00880919 0.66234756]\n",
      " [0.48147875 0.04013814 0.4783831 ]\n",
      " [0.3670602  0.0129989  0.6199409 ]\n",
      " [0.07673793 0.9158556  0.00740645]\n",
      " [0.06920869 0.9244731  0.00631823]\n",
      " [0.32398215 0.00847278 0.667545  ]\n",
      " [0.52107584 0.06185539 0.41706875]\n",
      " [0.0601845  0.9345522  0.00526336]\n",
      " [0.3188116  0.00791353 0.6732749 ]\n",
      " [0.50762737 0.05332122 0.4390514 ]\n",
      " [0.48643994 0.04165497 0.47190508]\n",
      " [0.05438267 0.94109666 0.00452066]\n",
      " [0.5433592  0.08422643 0.3724144 ]\n",
      " [0.487672   0.04277911 0.4695489 ]\n",
      " [0.06528312 0.928862   0.00585495]\n",
      " [0.04869675 0.9474359  0.00386727]\n",
      " [0.5061404  0.05098316 0.44287637]\n",
      " [0.48558122 0.04199494 0.47242382]\n",
      " [0.4271477  0.0227481  0.55010426]\n",
      " [0.04952872 0.9464837  0.00398759]\n",
      " [0.34328407 0.01004782 0.6466682 ]\n",
      " [0.535067   0.07551041 0.38942254]\n",
      " [0.03593498 0.9614936  0.00257141]\n",
      " [0.05023856 0.94568044 0.00408109]\n",
      " [0.4939701  0.0442147  0.4618152 ]\n",
      " [0.37682456 0.01394343 0.60923207]\n",
      " [0.4937404  0.0450073  0.46125227]\n",
      " [0.2979711  0.00637498 0.695654  ]\n",
      " [0.5516035  0.09755958 0.35083687]\n",
      " [0.32618967 0.00857453 0.6652358 ]\n",
      " [0.33508608 0.00959289 0.65532106]\n",
      " [0.04821983 0.9479462  0.00383403]\n",
      " [0.51854855 0.05875227 0.42269912]\n",
      " [0.05148499 0.94433147 0.00418355]]\n",
      "[1 0 0 1 2 0 2 1 1 2 0 1 2 0 0 1 0 0 1 1 0 0 2 1 2 0 1 1 0 2 0 2 0 2 2 1 0\n",
      " 1]\n",
      "[[15  0  1]\n",
      " [ 0 13  0]\n",
      " [ 0  0  9]]\n",
      "              precision    recall  f1-score   support\n",
      "\n",
      "           0       1.00      0.94      0.97        16\n",
      "           1       1.00      1.00      1.00        13\n",
      "           2       0.90      1.00      0.95         9\n",
      "\n",
      "    accuracy                           0.97        38\n",
      "   macro avg       0.97      0.98      0.97        38\n",
      "weighted avg       0.98      0.97      0.97        38\n",
      "\n",
      "Cohen's Kappa: 0.9597883597883597\n",
      "Accuracy:  0.9736842105263158\n"
     ]
    }
   ],
   "source": [
    "testResults = model.predict(testSamples)\n",
    "print(testResults)\n",
    "print(testResults.argmax(axis=1))\n",
    "\n",
    "print(confusion_matrix(testLabels.argmax(axis=1), testResults.argmax(axis=1)))\n",
    "print(classification_report(testLabels.argmax(axis=1), testResults.argmax(axis=1)))\n",
    "print(\"Cohen's Kappa: {}\".format(cohen_kappa_score(testLabels.argmax(axis=1), testResults.argmax(axis=1))))\n",
    "print(\"Accuracy: \",accuracy_score(testLabels.argmax(axis=1), testResults.argmax(axis=1)))\n"
   ]
  },
  {
   "cell_type": "code",
   "execution_count": 10,
   "metadata": {},
   "outputs": [
    {
     "name": "stdout",
     "output_type": "stream",
     "text": [
      "WARNING:tensorflow:From C:\\programs\\miniconda3\\envs\\deep\\lib\\site-packages\\tensorflow\\python\\training\\tracking\\tracking.py:111: Model.state_updates (from tensorflow.python.keras.engine.training) is deprecated and will be removed in a future version.\n",
      "Instructions for updating:\n",
      "This property should not be used in TensorFlow 2.0, as updates are applied automatically.\n",
      "WARNING:tensorflow:From C:\\programs\\miniconda3\\envs\\deep\\lib\\site-packages\\tensorflow\\python\\training\\tracking\\tracking.py:111: Layer.updates (from tensorflow.python.keras.engine.base_layer) is deprecated and will be removed in a future version.\n",
      "Instructions for updating:\n",
      "This property should not be used in TensorFlow 2.0, as updates are applied automatically.\n",
      "INFO:tensorflow:Assets written to: iris_model\\assets\n"
     ]
    }
   ],
   "source": [
    "model.save('iris_model')"
   ]
  }
 ],
 "metadata": {
  "kernelspec": {
   "display_name": "Python 3",
   "language": "python",
   "name": "python3"
  },
  "language_info": {
   "codemirror_mode": {
    "name": "ipython",
    "version": 3
   },
   "file_extension": ".py",
   "mimetype": "text/x-python",
   "name": "python",
   "nbconvert_exporter": "python",
   "pygments_lexer": "ipython3",
   "version": "3.8.5"
  }
 },
 "nbformat": 4,
 "nbformat_minor": 4
}
