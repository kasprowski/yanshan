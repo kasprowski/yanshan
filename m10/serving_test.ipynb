{
 "cells": [
  {
   "cell_type": "code",
   "execution_count": 1,
   "metadata": {},
   "outputs": [
    {
     "name": "stdout",
     "output_type": "stream",
     "text": [
      "{\"instances\": [[1.0, 2.0, 5.0, 1.0], [1.0, 2.0, 2.0, 1.0]]}\n",
      "<Response [200]>\n",
      "{'predictions': [[0.263827682, 0.00367434951, 0.732498], [0.640085161, 0.252359539, 0.10755524]]}\n"
     ]
    }
   ],
   "source": [
    "import json\n",
    "import requests\n",
    "import cv2\n",
    "import base64\n",
    "import numpy as np\n",
    "\n",
    "# response = requests.get('http://localhost:8181/v1/models/model/metadata', data=data, headers=headers)\n",
    "# print(response.json())\n",
    "\n",
    "data = json.dumps({\"instances\": [[1.0, 2.0, 5.0, 1.0], [1.0, 2.0, 2.0, 1.0]]})\n",
    "headers = {\"content-type\": \"application/json\"}\n",
    "print(data)\n",
    "response = requests.post('http://localhost:8081/v1/models/model:predict', data=data, headers=headers)\n",
    "print(response)\n",
    "print(response.json())\n",
    "\n",
    "predictions = response.json()['predictions']\n",
    "\n",
    "#print(predictions)"
   ]
  },
  {
   "cell_type": "code",
   "execution_count": 2,
   "metadata": {},
   "outputs": [
    {
     "name": "stdout",
     "output_type": "stream",
     "text": [
      "(64, 64, 3)\n",
      "<Response [200]>\n",
      "{'predictions': [[0.946038783, 0.000678531767, 0.000135182185, 0.0529861189, 0.000161356278]]}\n"
     ]
    }
   ],
   "source": [
    "import json\n",
    "import requests\n",
    "import cv2\n",
    "import base64\n",
    "import numpy as np\n",
    "\n",
    "headers = {\"content-type\": \"application/json\"}\n",
    "\n",
    "image = cv2.imread('daisy.jpg')\n",
    "image = cv2.resize(image,(64,64))\n",
    "print(image.shape)\n",
    "\n",
    "# encoded_input_string = base64.b64encode(image)\n",
    "# input_string = encoded_input_string.decode(\"utf-8\")\n",
    "\n",
    "data = {\n",
    "    \"instances\": [image.tolist()]\n",
    "}\n",
    "\n",
    "data = json.dumps(data)\n",
    "\n",
    "response = requests.post('http://localhost:8082/v1/models/model:predict', data=data, headers=headers)\n",
    "print(response)\n",
    "print(response.json())\n",
    "predictions = response.json()['predictions']\n",
    "#print(predictions)"
   ]
  }
 ],
 "metadata": {
  "kernelspec": {
   "display_name": "Python 3",
   "language": "python",
   "name": "python3"
  },
  "language_info": {
   "codemirror_mode": {
    "name": "ipython",
    "version": 3
   },
   "file_extension": ".py",
   "mimetype": "text/x-python",
   "name": "python",
   "nbconvert_exporter": "python",
   "pygments_lexer": "ipython3",
   "version": "3.8.5"
  }
 },
 "nbformat": 4,
 "nbformat_minor": 4
}
