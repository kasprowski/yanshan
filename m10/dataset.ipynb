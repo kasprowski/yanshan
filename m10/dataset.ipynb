{
 "cells": [
  {
   "cell_type": "code",
   "execution_count": 1,
   "metadata": {},
   "outputs": [],
   "source": [
    "import matplotlib.pyplot as plt\n",
    "import numpy as np\n",
    "import tensorflow as tf\n",
    "\n",
    "import tensorflow_datasets as tfds"
   ]
  },
  {
   "cell_type": "code",
   "execution_count": 2,
   "metadata": {},
   "outputs": [
    {
     "data": {
      "text/plain": [
       "['abstract_reasoning',\n",
       " 'accentdb',\n",
       " 'aeslc',\n",
       " 'aflw2k3d',\n",
       " 'ag_news_subset',\n",
       " 'ai2_arc',\n",
       " 'ai2_arc_with_ir',\n",
       " 'amazon_us_reviews',\n",
       " 'anli',\n",
       " 'arc',\n",
       " 'bair_robot_pushing_small',\n",
       " 'bccd',\n",
       " 'beans',\n",
       " 'big_patent',\n",
       " 'bigearthnet',\n",
       " 'billsum',\n",
       " 'binarized_mnist',\n",
       " 'binary_alpha_digits',\n",
       " 'blimp',\n",
       " 'bool_q',\n",
       " 'c4',\n",
       " 'caltech101',\n",
       " 'caltech_birds2010',\n",
       " 'caltech_birds2011',\n",
       " 'cars196',\n",
       " 'cassava',\n",
       " 'cats_vs_dogs',\n",
       " 'celeb_a',\n",
       " 'celeb_a_hq',\n",
       " 'cfq',\n",
       " 'cherry_blossoms',\n",
       " 'chexpert',\n",
       " 'cifar10',\n",
       " 'cifar100',\n",
       " 'cifar10_1',\n",
       " 'cifar10_corrupted',\n",
       " 'citrus_leaves',\n",
       " 'cityscapes',\n",
       " 'civil_comments',\n",
       " 'clevr',\n",
       " 'clic',\n",
       " 'clinc_oos',\n",
       " 'cmaterdb',\n",
       " 'cnn_dailymail',\n",
       " 'coco',\n",
       " 'coco_captions',\n",
       " 'coil100',\n",
       " 'colorectal_histology',\n",
       " 'colorectal_histology_large',\n",
       " 'common_voice',\n",
       " 'coqa',\n",
       " 'cos_e',\n",
       " 'cosmos_qa',\n",
       " 'covid19sum',\n",
       " 'crema_d',\n",
       " 'curated_breast_imaging_ddsm',\n",
       " 'cycle_gan',\n",
       " 'dart',\n",
       " 'davis',\n",
       " 'deep_weeds',\n",
       " 'definite_pronoun_resolution',\n",
       " 'dementiabank',\n",
       " 'diabetic_retinopathy_detection',\n",
       " 'div2k',\n",
       " 'dmlab',\n",
       " 'dolphin_number_word',\n",
       " 'downsampled_imagenet',\n",
       " 'drop',\n",
       " 'dsprites',\n",
       " 'dtd',\n",
       " 'duke_ultrasound',\n",
       " 'e2e_cleaned',\n",
       " 'efron_morris75',\n",
       " 'emnist',\n",
       " 'eraser_multi_rc',\n",
       " 'esnli',\n",
       " 'eurosat',\n",
       " 'fashion_mnist',\n",
       " 'flic',\n",
       " 'flores',\n",
       " 'food101',\n",
       " 'forest_fires',\n",
       " 'fuss',\n",
       " 'gap',\n",
       " 'geirhos_conflict_stimuli',\n",
       " 'gem',\n",
       " 'genomics_ood',\n",
       " 'german_credit_numeric',\n",
       " 'gigaword',\n",
       " 'glue',\n",
       " 'goemotions',\n",
       " 'gpt3',\n",
       " 'gref',\n",
       " 'groove',\n",
       " 'gtzan',\n",
       " 'gtzan_music_speech',\n",
       " 'hellaswag',\n",
       " 'higgs',\n",
       " 'horses_or_humans',\n",
       " 'howell',\n",
       " 'i_naturalist2017',\n",
       " 'imagenet2012',\n",
       " 'imagenet2012_corrupted',\n",
       " 'imagenet2012_real',\n",
       " 'imagenet2012_subset',\n",
       " 'imagenet_a',\n",
       " 'imagenet_r',\n",
       " 'imagenet_resized',\n",
       " 'imagenet_v2',\n",
       " 'imagenette',\n",
       " 'imagewang',\n",
       " 'imdb_reviews',\n",
       " 'irc_disentanglement',\n",
       " 'iris',\n",
       " 'kitti',\n",
       " 'kmnist',\n",
       " 'lambada',\n",
       " 'lfw',\n",
       " 'librispeech',\n",
       " 'librispeech_lm',\n",
       " 'libritts',\n",
       " 'ljspeech',\n",
       " 'lm1b',\n",
       " 'lost_and_found',\n",
       " 'lsun',\n",
       " 'lvis',\n",
       " 'malaria',\n",
       " 'math_dataset',\n",
       " 'mctaco',\n",
       " 'mlqa',\n",
       " 'mnist',\n",
       " 'mnist_corrupted',\n",
       " 'movie_lens',\n",
       " 'movie_rationales',\n",
       " 'movielens',\n",
       " 'moving_mnist',\n",
       " 'multi_news',\n",
       " 'multi_nli',\n",
       " 'multi_nli_mismatch',\n",
       " 'natural_questions',\n",
       " 'natural_questions_open',\n",
       " 'newsroom',\n",
       " 'nsynth',\n",
       " 'nyu_depth_v2',\n",
       " 'ogbg_molpcba',\n",
       " 'omniglot',\n",
       " 'open_images_challenge2019_detection',\n",
       " 'open_images_v4',\n",
       " 'openbookqa',\n",
       " 'opinion_abstracts',\n",
       " 'opinosis',\n",
       " 'opus',\n",
       " 'oxford_flowers102',\n",
       " 'oxford_iiit_pet',\n",
       " 'para_crawl',\n",
       " 'patch_camelyon',\n",
       " 'paws_wiki',\n",
       " 'paws_x_wiki',\n",
       " 'pet_finder',\n",
       " 'pg19',\n",
       " 'piqa',\n",
       " 'places365_small',\n",
       " 'plant_leaves',\n",
       " 'plant_village',\n",
       " 'plantae_k',\n",
       " 'qa4mre',\n",
       " 'qasc',\n",
       " 'quac',\n",
       " 'quickdraw_bitmap',\n",
       " 'race',\n",
       " 'radon',\n",
       " 'reddit',\n",
       " 'reddit_disentanglement',\n",
       " 'reddit_tifu',\n",
       " 'resisc45',\n",
       " 'robonet',\n",
       " 'rock_paper_scissors',\n",
       " 'rock_you',\n",
       " 's3o4d',\n",
       " 'salient_span_wikipedia',\n",
       " 'samsum',\n",
       " 'savee',\n",
       " 'scan',\n",
       " 'scene_parse150',\n",
       " 'scicite',\n",
       " 'scientific_papers',\n",
       " 'sentiment140',\n",
       " 'shapes3d',\n",
       " 'siscore',\n",
       " 'smallnorb',\n",
       " 'snli',\n",
       " 'so2sat',\n",
       " 'speech_commands',\n",
       " 'spoken_digit',\n",
       " 'squad',\n",
       " 'stanford_dogs',\n",
       " 'stanford_online_products',\n",
       " 'star_cfq',\n",
       " 'starcraft_video',\n",
       " 'stl10',\n",
       " 'story_cloze',\n",
       " 'sun397',\n",
       " 'super_glue',\n",
       " 'svhn_cropped',\n",
       " 'tao',\n",
       " 'ted_hrlr_translate',\n",
       " 'ted_multi_translate',\n",
       " 'tedlium',\n",
       " 'tf_flowers',\n",
       " 'the300w_lp',\n",
       " 'tiny_shakespeare',\n",
       " 'titanic',\n",
       " 'trec',\n",
       " 'trivia_qa',\n",
       " 'tydi_qa',\n",
       " 'uc_merced',\n",
       " 'ucf101',\n",
       " 'vctk',\n",
       " 'vgg_face2',\n",
       " 'visual_domain_decathlon',\n",
       " 'voc',\n",
       " 'voxceleb',\n",
       " 'voxforge',\n",
       " 'waymo_open_dataset',\n",
       " 'web_nlg',\n",
       " 'web_questions',\n",
       " 'wider_face',\n",
       " 'wiki40b',\n",
       " 'wiki_bio',\n",
       " 'wiki_table_questions',\n",
       " 'wiki_table_text',\n",
       " 'wikiann',\n",
       " 'wikihow',\n",
       " 'wikipedia',\n",
       " 'wikipedia_toxicity_subtypes',\n",
       " 'wine_quality',\n",
       " 'winogrande',\n",
       " 'wmt13_translate',\n",
       " 'wmt14_translate',\n",
       " 'wmt15_translate',\n",
       " 'wmt16_translate',\n",
       " 'wmt17_translate',\n",
       " 'wmt18_translate',\n",
       " 'wmt19_translate',\n",
       " 'wmt_t2t_translate',\n",
       " 'wmt_translate',\n",
       " 'wordnet',\n",
       " 'wsc273',\n",
       " 'xnli',\n",
       " 'xquad',\n",
       " 'xsum',\n",
       " 'xtreme_pawsx',\n",
       " 'xtreme_xnli',\n",
       " 'yelp_polarity_reviews',\n",
       " 'yes_no',\n",
       " 'youtube_vis']"
      ]
     },
     "execution_count": 2,
     "metadata": {},
     "output_type": "execute_result"
    }
   ],
   "source": [
    "tfds.list_builders()"
   ]
  },
  {
   "cell_type": "code",
   "execution_count": 3,
   "metadata": {},
   "outputs": [
    {
     "name": "stdout",
     "output_type": "stream",
     "text": [
      "<class 'dict'>\n",
      "{'train': <PrefetchDataset shapes: {features: (4,), label: ()}, types: {features: tf.float32, label: tf.int64}>}\n"
     ]
    }
   ],
   "source": [
    "dataset = tfds.load('iris')\n",
    "print(type(dataset))\n",
    "print(dataset)"
   ]
  },
  {
   "cell_type": "code",
   "execution_count": 4,
   "metadata": {},
   "outputs": [
    {
     "name": "stdout",
     "output_type": "stream",
     "text": [
      "<class 'dict'>\n",
      "{'train': <PrefetchDataset shapes: {features: (4,), label: ()}, types: {features: tf.float32, label: tf.int64}>}\n",
      "tfds.core.DatasetInfo(\n",
      "    name='iris',\n",
      "    full_name='iris/2.0.0',\n",
      "    description=\"\"\"\n",
      "    This is perhaps the best known database to be found in the pattern recognition\n",
      "    literature. Fisher's paper is a classic in the field and is referenced\n",
      "    frequently to this day. (See Duda & Hart, for example.) The data set contains\n",
      "    3 classes of 50 instances each, where each class refers to a type of iris\n",
      "    plant. One class is linearly separable from the other 2; the latter are NOT\n",
      "    linearly separable from each other.\n",
      "    \"\"\",\n",
      "    homepage='https://archive.ics.uci.edu/ml/datasets/iris',\n",
      "    data_path='C:\\\\Users\\\\win\\\\tensorflow_datasets\\\\iris\\\\2.0.0',\n",
      "    download_size=4.44 KiB,\n",
      "    dataset_size=7.62 KiB,\n",
      "    features=FeaturesDict({\n",
      "        'features': Tensor(shape=(4,), dtype=tf.float32),\n",
      "        'label': ClassLabel(shape=(), dtype=tf.int64, num_classes=3),\n",
      "    }),\n",
      "    supervised_keys=('features', 'label'),\n",
      "    splits={\n",
      "        'train': <SplitInfo num_examples=150, num_shards=1>,\n",
      "    },\n",
      "    citation=\"\"\"@misc{Dua:2019 ,\n",
      "    author = \"Dua, Dheeru and Graff, Casey\",\n",
      "    year = \"2017\",\n",
      "    title = \"{UCI} Machine Learning Repository\",\n",
      "    url = \"http://archive.ics.uci.edu/ml\",\n",
      "    institution = \"University of California, Irvine, School of Information and Computer Sciences\"\n",
      "    }\"\"\",\n",
      ")\n"
     ]
    }
   ],
   "source": [
    "dataset,info = tfds.load('iris',with_info=True)\n",
    "print(type(dataset))\n",
    "print(dataset)\n",
    "print(info)"
   ]
  },
  {
   "cell_type": "code",
   "execution_count": 5,
   "metadata": {},
   "outputs": [
    {
     "name": "stdout",
     "output_type": "stream",
     "text": [
      "<class 'tensorflow.python.data.ops.dataset_ops.PrefetchDataset'>\n",
      "<PrefetchDataset shapes: {features: (4,), label: ()}, types: {features: tf.float32, label: tf.int64}>\n"
     ]
    }
   ],
   "source": [
    "dataset = tfds.load('iris',split='train')\n",
    "print(type(dataset))\n",
    "print(dataset)"
   ]
  },
  {
   "cell_type": "code",
   "execution_count": 6,
   "metadata": {},
   "outputs": [
    {
     "name": "stdout",
     "output_type": "stream",
     "text": [
      "<class 'tensorflow.python.data.ops.dataset_ops.PrefetchDataset'>\n",
      "{'features': <tf.Tensor: shape=(4,), dtype=float32, numpy=array([5.1, 3.4, 1.5, 0.2], dtype=float32)>, 'label': <tf.Tensor: shape=(), dtype=int64, numpy=0>}\n",
      "{'features': <tf.Tensor: shape=(4,), dtype=float32, numpy=array([7.7, 3. , 6.1, 2.3], dtype=float32)>, 'label': <tf.Tensor: shape=(), dtype=int64, numpy=2>}\n",
      "{'features': <tf.Tensor: shape=(4,), dtype=float32, numpy=array([5.7, 2.8, 4.5, 1.3], dtype=float32)>, 'label': <tf.Tensor: shape=(), dtype=int64, numpy=1>}\n",
      "{'features': <tf.Tensor: shape=(4,), dtype=float32, numpy=array([6.8, 3.2, 5.9, 2.3], dtype=float32)>, 'label': <tf.Tensor: shape=(), dtype=int64, numpy=2>}\n",
      "{'features': <tf.Tensor: shape=(4,), dtype=float32, numpy=array([5.2, 3.4, 1.4, 0.2], dtype=float32)>, 'label': <tf.Tensor: shape=(), dtype=int64, numpy=0>}\n",
      "{'features': <tf.Tensor: shape=(4,), dtype=float32, numpy=array([5.6, 2.9, 3.6, 1.3], dtype=float32)>, 'label': <tf.Tensor: shape=(), dtype=int64, numpy=1>}\n",
      "{'features': <tf.Tensor: shape=(4,), dtype=float32, numpy=array([5.5, 2.6, 4.4, 1.2], dtype=float32)>, 'label': <tf.Tensor: shape=(), dtype=int64, numpy=1>}\n",
      "{'features': <tf.Tensor: shape=(4,), dtype=float32, numpy=array([5.5, 2.4, 3.7, 1. ], dtype=float32)>, 'label': <tf.Tensor: shape=(), dtype=int64, numpy=1>}\n",
      "{'features': <tf.Tensor: shape=(4,), dtype=float32, numpy=array([4.6, 3.4, 1.4, 0.3], dtype=float32)>, 'label': <tf.Tensor: shape=(), dtype=int64, numpy=0>}\n",
      "{'features': <tf.Tensor: shape=(4,), dtype=float32, numpy=array([7.7, 2.8, 6.7, 2. ], dtype=float32)>, 'label': <tf.Tensor: shape=(), dtype=int64, numpy=2>}\n",
      "{'features': <tf.Tensor: shape=(4,), dtype=float32, numpy=array([7. , 3.2, 4.7, 1.4], dtype=float32)>, 'label': <tf.Tensor: shape=(), dtype=int64, numpy=1>}\n",
      "{'features': <tf.Tensor: shape=(4,), dtype=float32, numpy=array([4.6, 3.2, 1.4, 0.2], dtype=float32)>, 'label': <tf.Tensor: shape=(), dtype=int64, numpy=0>}\n",
      "{'features': <tf.Tensor: shape=(4,), dtype=float32, numpy=array([6.5, 3. , 5.2, 2. ], dtype=float32)>, 'label': <tf.Tensor: shape=(), dtype=int64, numpy=2>}\n",
      "{'features': <tf.Tensor: shape=(4,), dtype=float32, numpy=array([5.5, 4.2, 1.4, 0.2], dtype=float32)>, 'label': <tf.Tensor: shape=(), dtype=int64, numpy=0>}\n",
      "{'features': <tf.Tensor: shape=(4,), dtype=float32, numpy=array([5.4, 3.9, 1.3, 0.4], dtype=float32)>, 'label': <tf.Tensor: shape=(), dtype=int64, numpy=0>}\n",
      "{'features': <tf.Tensor: shape=(4,), dtype=float32, numpy=array([5. , 3.5, 1.3, 0.3], dtype=float32)>, 'label': <tf.Tensor: shape=(), dtype=int64, numpy=0>}\n",
      "{'features': <tf.Tensor: shape=(4,), dtype=float32, numpy=array([5.1, 3.8, 1.5, 0.3], dtype=float32)>, 'label': <tf.Tensor: shape=(), dtype=int64, numpy=0>}\n",
      "{'features': <tf.Tensor: shape=(4,), dtype=float32, numpy=array([4.8, 3. , 1.4, 0.1], dtype=float32)>, 'label': <tf.Tensor: shape=(), dtype=int64, numpy=0>}\n",
      "{'features': <tf.Tensor: shape=(4,), dtype=float32, numpy=array([6.5, 3. , 5.8, 2.2], dtype=float32)>, 'label': <tf.Tensor: shape=(), dtype=int64, numpy=2>}\n",
      "{'features': <tf.Tensor: shape=(4,), dtype=float32, numpy=array([7.6, 3. , 6.6, 2.1], dtype=float32)>, 'label': <tf.Tensor: shape=(), dtype=int64, numpy=2>}\n",
      "{'features': <tf.Tensor: shape=(4,), dtype=float32, numpy=array([6.7, 3.3, 5.7, 2.1], dtype=float32)>, 'label': <tf.Tensor: shape=(), dtype=int64, numpy=2>}\n",
      "{'features': <tf.Tensor: shape=(4,), dtype=float32, numpy=array([7.9, 3.8, 6.4, 2. ], dtype=float32)>, 'label': <tf.Tensor: shape=(), dtype=int64, numpy=2>}\n",
      "{'features': <tf.Tensor: shape=(4,), dtype=float32, numpy=array([6.7, 3. , 5.2, 2.3], dtype=float32)>, 'label': <tf.Tensor: shape=(), dtype=int64, numpy=2>}\n",
      "{'features': <tf.Tensor: shape=(4,), dtype=float32, numpy=array([5.8, 4. , 1.2, 0.2], dtype=float32)>, 'label': <tf.Tensor: shape=(), dtype=int64, numpy=0>}\n",
      "{'features': <tf.Tensor: shape=(4,), dtype=float32, numpy=array([6.3, 2.5, 5. , 1.9], dtype=float32)>, 'label': <tf.Tensor: shape=(), dtype=int64, numpy=2>}\n",
      "{'features': <tf.Tensor: shape=(4,), dtype=float32, numpy=array([5. , 3. , 1.6, 0.2], dtype=float32)>, 'label': <tf.Tensor: shape=(), dtype=int64, numpy=0>}\n",
      "{'features': <tf.Tensor: shape=(4,), dtype=float32, numpy=array([6.9, 3.1, 5.1, 2.3], dtype=float32)>, 'label': <tf.Tensor: shape=(), dtype=int64, numpy=2>}\n",
      "{'features': <tf.Tensor: shape=(4,), dtype=float32, numpy=array([6.1, 3. , 4.6, 1.4], dtype=float32)>, 'label': <tf.Tensor: shape=(), dtype=int64, numpy=1>}\n",
      "{'features': <tf.Tensor: shape=(4,), dtype=float32, numpy=array([5.8, 2.7, 4.1, 1. ], dtype=float32)>, 'label': <tf.Tensor: shape=(), dtype=int64, numpy=1>}\n",
      "{'features': <tf.Tensor: shape=(4,), dtype=float32, numpy=array([5.2, 2.7, 3.9, 1.4], dtype=float32)>, 'label': <tf.Tensor: shape=(), dtype=int64, numpy=1>}\n",
      "{'features': <tf.Tensor: shape=(4,), dtype=float32, numpy=array([6.7, 3. , 5. , 1.7], dtype=float32)>, 'label': <tf.Tensor: shape=(), dtype=int64, numpy=1>}\n",
      "{'features': <tf.Tensor: shape=(4,), dtype=float32, numpy=array([5.7, 2.6, 3.5, 1. ], dtype=float32)>, 'label': <tf.Tensor: shape=(), dtype=int64, numpy=1>}\n",
      "{'features': <tf.Tensor: shape=(4,), dtype=float32, numpy=array([5.8, 2.8, 5.1, 2.4], dtype=float32)>, 'label': <tf.Tensor: shape=(), dtype=int64, numpy=2>}\n",
      "{'features': <tf.Tensor: shape=(4,), dtype=float32, numpy=array([6.5, 3.2, 5.1, 2. ], dtype=float32)>, 'label': <tf.Tensor: shape=(), dtype=int64, numpy=2>}\n",
      "{'features': <tf.Tensor: shape=(4,), dtype=float32, numpy=array([5.7, 3.8, 1.7, 0.3], dtype=float32)>, 'label': <tf.Tensor: shape=(), dtype=int64, numpy=0>}\n",
      "{'features': <tf.Tensor: shape=(4,), dtype=float32, numpy=array([5.4, 3.9, 1.7, 0.4], dtype=float32)>, 'label': <tf.Tensor: shape=(), dtype=int64, numpy=0>}\n",
      "{'features': <tf.Tensor: shape=(4,), dtype=float32, numpy=array([5.2, 3.5, 1.5, 0.2], dtype=float32)>, 'label': <tf.Tensor: shape=(), dtype=int64, numpy=0>}\n",
      "{'features': <tf.Tensor: shape=(4,), dtype=float32, numpy=array([4.9, 3.1, 1.5, 0.1], dtype=float32)>, 'label': <tf.Tensor: shape=(), dtype=int64, numpy=0>}\n",
      "{'features': <tf.Tensor: shape=(4,), dtype=float32, numpy=array([5.6, 2.7, 4.2, 1.3], dtype=float32)>, 'label': <tf.Tensor: shape=(), dtype=int64, numpy=1>}\n",
      "{'features': <tf.Tensor: shape=(4,), dtype=float32, numpy=array([5. , 3.4, 1.6, 0.4], dtype=float32)>, 'label': <tf.Tensor: shape=(), dtype=int64, numpy=0>}\n",
      "{'features': <tf.Tensor: shape=(4,), dtype=float32, numpy=array([5.3, 3.7, 1.5, 0.2], dtype=float32)>, 'label': <tf.Tensor: shape=(), dtype=int64, numpy=0>}\n",
      "{'features': <tf.Tensor: shape=(4,), dtype=float32, numpy=array([6.6, 2.9, 4.6, 1.3], dtype=float32)>, 'label': <tf.Tensor: shape=(), dtype=int64, numpy=1>}\n",
      "{'features': <tf.Tensor: shape=(4,), dtype=float32, numpy=array([5.5, 3.5, 1.3, 0.2], dtype=float32)>, 'label': <tf.Tensor: shape=(), dtype=int64, numpy=0>}\n",
      "{'features': <tf.Tensor: shape=(4,), dtype=float32, numpy=array([6.7, 3.1, 4.4, 1.4], dtype=float32)>, 'label': <tf.Tensor: shape=(), dtype=int64, numpy=1>}\n",
      "{'features': <tf.Tensor: shape=(4,), dtype=float32, numpy=array([4.3, 3. , 1.1, 0.1], dtype=float32)>, 'label': <tf.Tensor: shape=(), dtype=int64, numpy=0>}\n",
      "{'features': <tf.Tensor: shape=(4,), dtype=float32, numpy=array([6.4, 3.1, 5.5, 1.8], dtype=float32)>, 'label': <tf.Tensor: shape=(), dtype=int64, numpy=2>}\n",
      "{'features': <tf.Tensor: shape=(4,), dtype=float32, numpy=array([5. , 3.2, 1.2, 0.2], dtype=float32)>, 'label': <tf.Tensor: shape=(), dtype=int64, numpy=0>}\n",
      "{'features': <tf.Tensor: shape=(4,), dtype=float32, numpy=array([5.7, 4.4, 1.5, 0.4], dtype=float32)>, 'label': <tf.Tensor: shape=(), dtype=int64, numpy=0>}\n",
      "{'features': <tf.Tensor: shape=(4,), dtype=float32, numpy=array([6. , 2.2, 4. , 1. ], dtype=float32)>, 'label': <tf.Tensor: shape=(), dtype=int64, numpy=1>}\n",
      "{'features': <tf.Tensor: shape=(4,), dtype=float32, numpy=array([6.1, 2.6, 5.6, 1.4], dtype=float32)>, 'label': <tf.Tensor: shape=(), dtype=int64, numpy=2>}\n",
      "{'features': <tf.Tensor: shape=(4,), dtype=float32, numpy=array([6.3, 2.3, 4.4, 1.3], dtype=float32)>, 'label': <tf.Tensor: shape=(), dtype=int64, numpy=1>}\n",
      "{'features': <tf.Tensor: shape=(4,), dtype=float32, numpy=array([5.2, 4.1, 1.5, 0.1], dtype=float32)>, 'label': <tf.Tensor: shape=(), dtype=int64, numpy=0>}\n",
      "{'features': <tf.Tensor: shape=(4,), dtype=float32, numpy=array([5. , 3.3, 1.4, 0.2], dtype=float32)>, 'label': <tf.Tensor: shape=(), dtype=int64, numpy=0>}\n",
      "{'features': <tf.Tensor: shape=(4,), dtype=float32, numpy=array([6.8, 2.8, 4.8, 1.4], dtype=float32)>, 'label': <tf.Tensor: shape=(), dtype=int64, numpy=1>}\n",
      "{'features': <tf.Tensor: shape=(4,), dtype=float32, numpy=array([5.4, 3.4, 1.5, 0.4], dtype=float32)>, 'label': <tf.Tensor: shape=(), dtype=int64, numpy=0>}\n",
      "{'features': <tf.Tensor: shape=(4,), dtype=float32, numpy=array([6.1, 2.8, 4.7, 1.2], dtype=float32)>, 'label': <tf.Tensor: shape=(), dtype=int64, numpy=1>}\n",
      "{'features': <tf.Tensor: shape=(4,), dtype=float32, numpy=array([5.6, 3. , 4.1, 1.3], dtype=float32)>, 'label': <tf.Tensor: shape=(), dtype=int64, numpy=1>}\n",
      "{'features': <tf.Tensor: shape=(4,), dtype=float32, numpy=array([6.4, 2.9, 4.3, 1.3], dtype=float32)>, 'label': <tf.Tensor: shape=(), dtype=int64, numpy=1>}\n",
      "{'features': <tf.Tensor: shape=(4,), dtype=float32, numpy=array([6.4, 2.8, 5.6, 2.1], dtype=float32)>, 'label': <tf.Tensor: shape=(), dtype=int64, numpy=2>}\n",
      "{'features': <tf.Tensor: shape=(4,), dtype=float32, numpy=array([5.1, 3.7, 1.5, 0.4], dtype=float32)>, 'label': <tf.Tensor: shape=(), dtype=int64, numpy=0>}\n",
      "{'features': <tf.Tensor: shape=(4,), dtype=float32, numpy=array([4.8, 3. , 1.4, 0.3], dtype=float32)>, 'label': <tf.Tensor: shape=(), dtype=int64, numpy=0>}\n",
      "{'features': <tf.Tensor: shape=(4,), dtype=float32, numpy=array([6. , 2.9, 4.5, 1.5], dtype=float32)>, 'label': <tf.Tensor: shape=(), dtype=int64, numpy=1>}\n",
      "{'features': <tf.Tensor: shape=(4,), dtype=float32, numpy=array([6. , 3. , 4.8, 1.8], dtype=float32)>, 'label': <tf.Tensor: shape=(), dtype=int64, numpy=2>}\n",
      "{'features': <tf.Tensor: shape=(4,), dtype=float32, numpy=array([5. , 3.6, 1.4, 0.2], dtype=float32)>, 'label': <tf.Tensor: shape=(), dtype=int64, numpy=0>}\n",
      "{'features': <tf.Tensor: shape=(4,), dtype=float32, numpy=array([4.7, 3.2, 1.6, 0.2], dtype=float32)>, 'label': <tf.Tensor: shape=(), dtype=int64, numpy=0>}\n",
      "{'features': <tf.Tensor: shape=(4,), dtype=float32, numpy=array([5.4, 3. , 4.5, 1.5], dtype=float32)>, 'label': <tf.Tensor: shape=(), dtype=int64, numpy=1>}\n",
      "{'features': <tf.Tensor: shape=(4,), dtype=float32, numpy=array([6.9, 3.2, 5.7, 2.3], dtype=float32)>, 'label': <tf.Tensor: shape=(), dtype=int64, numpy=2>}\n",
      "{'features': <tf.Tensor: shape=(4,), dtype=float32, numpy=array([5.8, 2.7, 5.1, 1.9], dtype=float32)>, 'label': <tf.Tensor: shape=(), dtype=int64, numpy=2>}\n",
      "{'features': <tf.Tensor: shape=(4,), dtype=float32, numpy=array([6.1, 2.8, 4. , 1.3], dtype=float32)>, 'label': <tf.Tensor: shape=(), dtype=int64, numpy=1>}\n",
      "{'features': <tf.Tensor: shape=(4,), dtype=float32, numpy=array([6.1, 3. , 4.9, 1.8], dtype=float32)>, 'label': <tf.Tensor: shape=(), dtype=int64, numpy=2>}\n",
      "{'features': <tf.Tensor: shape=(4,), dtype=float32, numpy=array([5.8, 2.7, 5.1, 1.9], dtype=float32)>, 'label': <tf.Tensor: shape=(), dtype=int64, numpy=2>}\n",
      "{'features': <tf.Tensor: shape=(4,), dtype=float32, numpy=array([6.3, 2.7, 4.9, 1.8], dtype=float32)>, 'label': <tf.Tensor: shape=(), dtype=int64, numpy=2>}\n",
      "{'features': <tf.Tensor: shape=(4,), dtype=float32, numpy=array([5.4, 3.7, 1.5, 0.2], dtype=float32)>, 'label': <tf.Tensor: shape=(), dtype=int64, numpy=0>}\n",
      "{'features': <tf.Tensor: shape=(4,), dtype=float32, numpy=array([7.1, 3. , 5.9, 2.1], dtype=float32)>, 'label': <tf.Tensor: shape=(), dtype=int64, numpy=2>}\n",
      "{'features': <tf.Tensor: shape=(4,), dtype=float32, numpy=array([6.5, 2.8, 4.6, 1.5], dtype=float32)>, 'label': <tf.Tensor: shape=(), dtype=int64, numpy=1>}\n",
      "{'features': <tf.Tensor: shape=(4,), dtype=float32, numpy=array([4.6, 3.6, 1. , 0.2], dtype=float32)>, 'label': <tf.Tensor: shape=(), dtype=int64, numpy=0>}\n",
      "{'features': <tf.Tensor: shape=(4,), dtype=float32, numpy=array([5.1, 3.5, 1.4, 0.3], dtype=float32)>, 'label': <tf.Tensor: shape=(), dtype=int64, numpy=0>}\n",
      "{'features': <tf.Tensor: shape=(4,), dtype=float32, numpy=array([5.6, 2.5, 3.9, 1.1], dtype=float32)>, 'label': <tf.Tensor: shape=(), dtype=int64, numpy=1>}\n",
      "{'features': <tf.Tensor: shape=(4,), dtype=float32, numpy=array([5.6, 2.8, 4.9, 2. ], dtype=float32)>, 'label': <tf.Tensor: shape=(), dtype=int64, numpy=2>}\n",
      "{'features': <tf.Tensor: shape=(4,), dtype=float32, numpy=array([6.7, 3.1, 4.7, 1.5], dtype=float32)>, 'label': <tf.Tensor: shape=(), dtype=int64, numpy=1>}\n",
      "{'features': <tf.Tensor: shape=(4,), dtype=float32, numpy=array([5.7, 3. , 4.2, 1.2], dtype=float32)>, 'label': <tf.Tensor: shape=(), dtype=int64, numpy=1>}\n",
      "{'features': <tf.Tensor: shape=(4,), dtype=float32, numpy=array([7.3, 2.9, 6.3, 1.8], dtype=float32)>, 'label': <tf.Tensor: shape=(), dtype=int64, numpy=2>}\n",
      "{'features': <tf.Tensor: shape=(4,), dtype=float32, numpy=array([4.5, 2.3, 1.3, 0.3], dtype=float32)>, 'label': <tf.Tensor: shape=(), dtype=int64, numpy=0>}\n",
      "{'features': <tf.Tensor: shape=(4,), dtype=float32, numpy=array([5.8, 2.7, 3.9, 1.2], dtype=float32)>, 'label': <tf.Tensor: shape=(), dtype=int64, numpy=1>}\n",
      "{'features': <tf.Tensor: shape=(4,), dtype=float32, numpy=array([6.3, 2.9, 5.6, 1.8], dtype=float32)>, 'label': <tf.Tensor: shape=(), dtype=int64, numpy=2>}\n",
      "{'features': <tf.Tensor: shape=(4,), dtype=float32, numpy=array([5.1, 3.5, 1.4, 0.2], dtype=float32)>, 'label': <tf.Tensor: shape=(), dtype=int64, numpy=0>}\n",
      "{'features': <tf.Tensor: shape=(4,), dtype=float32, numpy=array([4.9, 2.5, 4.5, 1.7], dtype=float32)>, 'label': <tf.Tensor: shape=(), dtype=int64, numpy=2>}\n",
      "{'features': <tf.Tensor: shape=(4,), dtype=float32, numpy=array([6.9, 3.1, 4.9, 1.5], dtype=float32)>, 'label': <tf.Tensor: shape=(), dtype=int64, numpy=1>}\n",
      "{'features': <tf.Tensor: shape=(4,), dtype=float32, numpy=array([6. , 2.2, 5. , 1.5], dtype=float32)>, 'label': <tf.Tensor: shape=(), dtype=int64, numpy=2>}\n",
      "{'features': <tf.Tensor: shape=(4,), dtype=float32, numpy=array([5.1, 2.5, 3. , 1.1], dtype=float32)>, 'label': <tf.Tensor: shape=(), dtype=int64, numpy=1>}\n",
      "{'features': <tf.Tensor: shape=(4,), dtype=float32, numpy=array([7.2, 3. , 5.8, 1.6], dtype=float32)>, 'label': <tf.Tensor: shape=(), dtype=int64, numpy=2>}\n",
      "{'features': <tf.Tensor: shape=(4,), dtype=float32, numpy=array([6.2, 2.9, 4.3, 1.3], dtype=float32)>, 'label': <tf.Tensor: shape=(), dtype=int64, numpy=1>}\n",
      "{'features': <tf.Tensor: shape=(4,), dtype=float32, numpy=array([4.4, 2.9, 1.4, 0.2], dtype=float32)>, 'label': <tf.Tensor: shape=(), dtype=int64, numpy=0>}\n",
      "{'features': <tf.Tensor: shape=(4,), dtype=float32, numpy=array([5.7, 2.8, 4.1, 1.3], dtype=float32)>, 'label': <tf.Tensor: shape=(), dtype=int64, numpy=1>}\n",
      "{'features': <tf.Tensor: shape=(4,), dtype=float32, numpy=array([5.7, 2.5, 5. , 2. ], dtype=float32)>, 'label': <tf.Tensor: shape=(), dtype=int64, numpy=2>}\n",
      "{'features': <tf.Tensor: shape=(4,), dtype=float32, numpy=array([5.6, 3. , 4.5, 1.5], dtype=float32)>, 'label': <tf.Tensor: shape=(), dtype=int64, numpy=1>}\n",
      "{'features': <tf.Tensor: shape=(4,), dtype=float32, numpy=array([5.1, 3.3, 1.7, 0.5], dtype=float32)>, 'label': <tf.Tensor: shape=(), dtype=int64, numpy=0>}\n",
      "{'features': <tf.Tensor: shape=(4,), dtype=float32, numpy=array([5.5, 2.3, 4. , 1.3], dtype=float32)>, 'label': <tf.Tensor: shape=(), dtype=int64, numpy=1>}\n",
      "{'features': <tf.Tensor: shape=(4,), dtype=float32, numpy=array([6.3, 3.3, 4.7, 1.6], dtype=float32)>, 'label': <tf.Tensor: shape=(), dtype=int64, numpy=1>}\n",
      "{'features': <tf.Tensor: shape=(4,), dtype=float32, numpy=array([6.3, 2.8, 5.1, 1.5], dtype=float32)>, 'label': <tf.Tensor: shape=(), dtype=int64, numpy=2>}\n",
      "{'features': <tf.Tensor: shape=(4,), dtype=float32, numpy=array([6.3, 3.4, 5.6, 2.4], dtype=float32)>, 'label': <tf.Tensor: shape=(), dtype=int64, numpy=2>}\n",
      "{'features': <tf.Tensor: shape=(4,), dtype=float32, numpy=array([6.5, 3. , 5.5, 1.8], dtype=float32)>, 'label': <tf.Tensor: shape=(), dtype=int64, numpy=2>}\n",
      "{'features': <tf.Tensor: shape=(4,), dtype=float32, numpy=array([4.6, 3.1, 1.5, 0.2], dtype=float32)>, 'label': <tf.Tensor: shape=(), dtype=int64, numpy=0>}\n",
      "{'features': <tf.Tensor: shape=(4,), dtype=float32, numpy=array([7.7, 3.8, 6.7, 2.2], dtype=float32)>, 'label': <tf.Tensor: shape=(), dtype=int64, numpy=2>}\n",
      "{'features': <tf.Tensor: shape=(4,), dtype=float32, numpy=array([5. , 2. , 3.5, 1. ], dtype=float32)>, 'label': <tf.Tensor: shape=(), dtype=int64, numpy=1>}\n",
      "{'features': <tf.Tensor: shape=(4,), dtype=float32, numpy=array([7.2, 3.6, 6.1, 2.5], dtype=float32)>, 'label': <tf.Tensor: shape=(), dtype=int64, numpy=2>}\n",
      "{'features': <tf.Tensor: shape=(4,), dtype=float32, numpy=array([6.4, 3.2, 4.5, 1.5], dtype=float32)>, 'label': <tf.Tensor: shape=(), dtype=int64, numpy=1>}\n",
      "{'features': <tf.Tensor: shape=(4,), dtype=float32, numpy=array([4.9, 3. , 1.4, 0.2], dtype=float32)>, 'label': <tf.Tensor: shape=(), dtype=int64, numpy=0>}\n",
      "{'features': <tf.Tensor: shape=(4,), dtype=float32, numpy=array([5.9, 3. , 4.2, 1.5], dtype=float32)>, 'label': <tf.Tensor: shape=(), dtype=int64, numpy=1>}\n",
      "{'features': <tf.Tensor: shape=(4,), dtype=float32, numpy=array([4.8, 3.1, 1.6, 0.2], dtype=float32)>, 'label': <tf.Tensor: shape=(), dtype=int64, numpy=0>}\n",
      "{'features': <tf.Tensor: shape=(4,), dtype=float32, numpy=array([6.3, 3.3, 6. , 2.5], dtype=float32)>, 'label': <tf.Tensor: shape=(), dtype=int64, numpy=2>}\n",
      "{'features': <tf.Tensor: shape=(4,), dtype=float32, numpy=array([6.4, 2.8, 5.6, 2.2], dtype=float32)>, 'label': <tf.Tensor: shape=(), dtype=int64, numpy=2>}\n",
      "{'features': <tf.Tensor: shape=(4,), dtype=float32, numpy=array([4.8, 3.4, 1.9, 0.2], dtype=float32)>, 'label': <tf.Tensor: shape=(), dtype=int64, numpy=0>}\n",
      "{'features': <tf.Tensor: shape=(4,), dtype=float32, numpy=array([6.7, 2.5, 5.8, 1.8], dtype=float32)>, 'label': <tf.Tensor: shape=(), dtype=int64, numpy=2>}\n",
      "{'features': <tf.Tensor: shape=(4,), dtype=float32, numpy=array([5.1, 3.8, 1.9, 0.4], dtype=float32)>, 'label': <tf.Tensor: shape=(), dtype=int64, numpy=0>}\n",
      "{'features': <tf.Tensor: shape=(4,), dtype=float32, numpy=array([5.7, 2.9, 4.2, 1.3], dtype=float32)>, 'label': <tf.Tensor: shape=(), dtype=int64, numpy=1>}\n",
      "{'features': <tf.Tensor: shape=(4,), dtype=float32, numpy=array([6.4, 2.7, 5.3, 1.9], dtype=float32)>, 'label': <tf.Tensor: shape=(), dtype=int64, numpy=2>}\n",
      "{'features': <tf.Tensor: shape=(4,), dtype=float32, numpy=array([5.4, 3.4, 1.7, 0.2], dtype=float32)>, 'label': <tf.Tensor: shape=(), dtype=int64, numpy=0>}\n",
      "{'features': <tf.Tensor: shape=(4,), dtype=float32, numpy=array([6.8, 3. , 5.5, 2.1], dtype=float32)>, 'label': <tf.Tensor: shape=(), dtype=int64, numpy=2>}\n",
      "{'features': <tf.Tensor: shape=(4,), dtype=float32, numpy=array([6.3, 2.5, 4.9, 1.5], dtype=float32)>, 'label': <tf.Tensor: shape=(), dtype=int64, numpy=1>}\n",
      "{'features': <tf.Tensor: shape=(4,), dtype=float32, numpy=array([4.4, 3.2, 1.3, 0.2], dtype=float32)>, 'label': <tf.Tensor: shape=(), dtype=int64, numpy=0>}\n",
      "{'features': <tf.Tensor: shape=(4,), dtype=float32, numpy=array([4.9, 3.1, 1.5, 0.1], dtype=float32)>, 'label': <tf.Tensor: shape=(), dtype=int64, numpy=0>}\n",
      "{'features': <tf.Tensor: shape=(4,), dtype=float32, numpy=array([7.7, 2.6, 6.9, 2.3], dtype=float32)>, 'label': <tf.Tensor: shape=(), dtype=int64, numpy=2>}\n",
      "{'features': <tf.Tensor: shape=(4,), dtype=float32, numpy=array([5. , 3.4, 1.5, 0.2], dtype=float32)>, 'label': <tf.Tensor: shape=(), dtype=int64, numpy=0>}\n",
      "{'features': <tf.Tensor: shape=(4,), dtype=float32, numpy=array([6. , 2.7, 5.1, 1.6], dtype=float32)>, 'label': <tf.Tensor: shape=(), dtype=int64, numpy=1>}\n",
      "{'features': <tf.Tensor: shape=(4,), dtype=float32, numpy=array([6.7, 3.3, 5.7, 2.5], dtype=float32)>, 'label': <tf.Tensor: shape=(), dtype=int64, numpy=2>}\n",
      "{'features': <tf.Tensor: shape=(4,), dtype=float32, numpy=array([5. , 3.5, 1.6, 0.6], dtype=float32)>, 'label': <tf.Tensor: shape=(), dtype=int64, numpy=0>}\n",
      "{'features': <tf.Tensor: shape=(4,), dtype=float32, numpy=array([6.4, 3.2, 5.3, 2.3], dtype=float32)>, 'label': <tf.Tensor: shape=(), dtype=int64, numpy=2>}\n",
      "{'features': <tf.Tensor: shape=(4,), dtype=float32, numpy=array([7.4, 2.8, 6.1, 1.9], dtype=float32)>, 'label': <tf.Tensor: shape=(), dtype=int64, numpy=2>}\n",
      "{'features': <tf.Tensor: shape=(4,), dtype=float32, numpy=array([6.9, 3.1, 5.4, 2.1], dtype=float32)>, 'label': <tf.Tensor: shape=(), dtype=int64, numpy=2>}\n",
      "{'features': <tf.Tensor: shape=(4,), dtype=float32, numpy=array([5.9, 3.2, 4.8, 1.8], dtype=float32)>, 'label': <tf.Tensor: shape=(), dtype=int64, numpy=1>}\n",
      "{'features': <tf.Tensor: shape=(4,), dtype=float32, numpy=array([5.5, 2.5, 4. , 1.3], dtype=float32)>, 'label': <tf.Tensor: shape=(), dtype=int64, numpy=1>}\n",
      "{'features': <tf.Tensor: shape=(4,), dtype=float32, numpy=array([6.2, 2.2, 4.5, 1.5], dtype=float32)>, 'label': <tf.Tensor: shape=(), dtype=int64, numpy=1>}\n",
      "{'features': <tf.Tensor: shape=(4,), dtype=float32, numpy=array([4.4, 3. , 1.3, 0.2], dtype=float32)>, 'label': <tf.Tensor: shape=(), dtype=int64, numpy=0>}\n",
      "{'features': <tf.Tensor: shape=(4,), dtype=float32, numpy=array([5. , 2.3, 3.3, 1. ], dtype=float32)>, 'label': <tf.Tensor: shape=(), dtype=int64, numpy=1>}\n",
      "{'features': <tf.Tensor: shape=(4,), dtype=float32, numpy=array([6.6, 3. , 4.4, 1.4], dtype=float32)>, 'label': <tf.Tensor: shape=(), dtype=int64, numpy=1>}\n",
      "{'features': <tf.Tensor: shape=(4,), dtype=float32, numpy=array([6.1, 2.9, 4.7, 1.4], dtype=float32)>, 'label': <tf.Tensor: shape=(), dtype=int64, numpy=1>}\n",
      "{'features': <tf.Tensor: shape=(4,), dtype=float32, numpy=array([6.2, 2.8, 4.8, 1.8], dtype=float32)>, 'label': <tf.Tensor: shape=(), dtype=int64, numpy=2>}\n",
      "{'features': <tf.Tensor: shape=(4,), dtype=float32, numpy=array([4.8, 3.4, 1.6, 0.2], dtype=float32)>, 'label': <tf.Tensor: shape=(), dtype=int64, numpy=0>}\n",
      "{'features': <tf.Tensor: shape=(4,), dtype=float32, numpy=array([5.9, 3. , 5.1, 1.8], dtype=float32)>, 'label': <tf.Tensor: shape=(), dtype=int64, numpy=2>}\n",
      "{'features': <tf.Tensor: shape=(4,), dtype=float32, numpy=array([6. , 3.4, 4.5, 1.6], dtype=float32)>, 'label': <tf.Tensor: shape=(), dtype=int64, numpy=1>}\n",
      "{'features': <tf.Tensor: shape=(4,), dtype=float32, numpy=array([7.2, 3.2, 6. , 1.8], dtype=float32)>, 'label': <tf.Tensor: shape=(), dtype=int64, numpy=2>}\n",
      "{'features': <tf.Tensor: shape=(4,), dtype=float32, numpy=array([5.8, 2.6, 4. , 1.2], dtype=float32)>, 'label': <tf.Tensor: shape=(), dtype=int64, numpy=1>}\n",
      "{'features': <tf.Tensor: shape=(4,), dtype=float32, numpy=array([4.7, 3.2, 1.3, 0.2], dtype=float32)>, 'label': <tf.Tensor: shape=(), dtype=int64, numpy=0>}\n",
      "{'features': <tf.Tensor: shape=(4,), dtype=float32, numpy=array([6.2, 3.4, 5.4, 2.3], dtype=float32)>, 'label': <tf.Tensor: shape=(), dtype=int64, numpy=2>}\n",
      "{'features': <tf.Tensor: shape=(4,), dtype=float32, numpy=array([5.1, 3.8, 1.6, 0.2], dtype=float32)>, 'label': <tf.Tensor: shape=(), dtype=int64, numpy=0>}\n",
      "{'features': <tf.Tensor: shape=(4,), dtype=float32, numpy=array([4.9, 2.4, 3.3, 1. ], dtype=float32)>, 'label': <tf.Tensor: shape=(), dtype=int64, numpy=1>}\n",
      "{'features': <tf.Tensor: shape=(4,), dtype=float32, numpy=array([6.7, 3.1, 5.6, 2.4], dtype=float32)>, 'label': <tf.Tensor: shape=(), dtype=int64, numpy=2>}\n",
      "{'features': <tf.Tensor: shape=(4,), dtype=float32, numpy=array([5.5, 2.4, 3.8, 1.1], dtype=float32)>, 'label': <tf.Tensor: shape=(), dtype=int64, numpy=1>}\n",
      "{'features': <tf.Tensor: shape=(4,), dtype=float32, numpy=array([4.9, 3.1, 1.5, 0.1], dtype=float32)>, 'label': <tf.Tensor: shape=(), dtype=int64, numpy=0>}\n"
     ]
    }
   ],
   "source": [
    "dataset = tfds.load('iris',split='train')\n",
    "print(type(dataset))\n",
    "for val in dataset:  # (features, label)\n",
    "  print(val)\n"
   ]
  },
  {
   "cell_type": "code",
   "execution_count": 7,
   "metadata": {},
   "outputs": [
    {
     "name": "stdout",
     "output_type": "stream",
     "text": [
      "<class 'tensorflow.python.data.ops.dataset_ops.PrefetchDataset'>\n",
      "<TakeDataset shapes: {features: (4,), label: ()}, types: {features: tf.float32, label: tf.int64}>\n",
      "dict_keys(['features', 'label'])\n",
      "{'features': <tf.Tensor: shape=(4,), dtype=float32, numpy=array([5.1, 3.4, 1.5, 0.2], dtype=float32)>, 'label': <tf.Tensor: shape=(), dtype=int64, numpy=0>}\n",
      "dict_keys(['features', 'label'])\n",
      "{'features': <tf.Tensor: shape=(4,), dtype=float32, numpy=array([7.7, 3. , 6.1, 2.3], dtype=float32)>, 'label': <tf.Tensor: shape=(), dtype=int64, numpy=2>}\n",
      "dict_keys(['features', 'label'])\n",
      "{'features': <tf.Tensor: shape=(4,), dtype=float32, numpy=array([5.7, 2.8, 4.5, 1.3], dtype=float32)>, 'label': <tf.Tensor: shape=(), dtype=int64, numpy=1>}\n",
      "dict_keys(['features', 'label'])\n",
      "{'features': <tf.Tensor: shape=(4,), dtype=float32, numpy=array([6.8, 3.2, 5.9, 2.3], dtype=float32)>, 'label': <tf.Tensor: shape=(), dtype=int64, numpy=2>}\n",
      "dict_keys(['features', 'label'])\n",
      "{'features': <tf.Tensor: shape=(4,), dtype=float32, numpy=array([5.2, 3.4, 1.4, 0.2], dtype=float32)>, 'label': <tf.Tensor: shape=(), dtype=int64, numpy=0>}\n",
      "Features: tf.Tensor([5.1 3.4 1.5 0.2], shape=(4,), dtype=float32)\n",
      "Label: tf.Tensor(0, shape=(), dtype=int64)\n",
      "Features: tf.Tensor([7.7 3.  6.1 2.3], shape=(4,), dtype=float32)\n",
      "Label: tf.Tensor(2, shape=(), dtype=int64)\n",
      "Features: tf.Tensor([5.7 2.8 4.5 1.3], shape=(4,), dtype=float32)\n",
      "Label: tf.Tensor(1, shape=(), dtype=int64)\n",
      "Features: tf.Tensor([6.8 3.2 5.9 2.3], shape=(4,), dtype=float32)\n",
      "Label: tf.Tensor(2, shape=(), dtype=int64)\n",
      "Features: tf.Tensor([5.2 3.4 1.4 0.2], shape=(4,), dtype=float32)\n",
      "Label: tf.Tensor(0, shape=(), dtype=int64)\n"
     ]
    }
   ],
   "source": [
    "dataset = tfds.load('iris',split='train')\n",
    "print(type(dataset))\n",
    "first = dataset.take(5)\n",
    "print(first)\n",
    "for example in first:\n",
    "    print(example.keys())\n",
    "    print(example)\n",
    "    \n",
    "for example in first:\n",
    "    print(\"Features:\",example['features'])\n",
    "    print(\"Label:\",example['label'])"
   ]
  },
  {
   "cell_type": "code",
   "execution_count": 8,
   "metadata": {},
   "outputs": [
    {
     "data": {
      "text/html": [
       "<style  type=\"text/css\" >\n",
       "</style><table id=\"T_da51d2a6_976a_11eb_92bd_9cb6d08f66c6\" ><thead>    <tr>        <th class=\"blank level0\" ></th>        <th class=\"col_heading level0 col0\" >features</th>        <th class=\"col_heading level0 col1\" >label</th>    </tr></thead><tbody>\n",
       "                <tr>\n",
       "                        <th id=\"T_da51d2a6_976a_11eb_92bd_9cb6d08f66c6level0_row0\" class=\"row_heading level0 row0\" >0</th>\n",
       "                        <td id=\"T_da51d2a6_976a_11eb_92bd_9cb6d08f66c6row0_col0\" class=\"data row0 col0\" >ndarray(shape=(4,), dtype=float32)</td>\n",
       "                        <td id=\"T_da51d2a6_976a_11eb_92bd_9cb6d08f66c6row0_col1\" class=\"data row0 col1\" >0 (Iris-setosa)</td>\n",
       "            </tr>\n",
       "            <tr>\n",
       "                        <th id=\"T_da51d2a6_976a_11eb_92bd_9cb6d08f66c6level0_row1\" class=\"row_heading level0 row1\" >1</th>\n",
       "                        <td id=\"T_da51d2a6_976a_11eb_92bd_9cb6d08f66c6row1_col0\" class=\"data row1 col0\" >ndarray(shape=(4,), dtype=float32)</td>\n",
       "                        <td id=\"T_da51d2a6_976a_11eb_92bd_9cb6d08f66c6row1_col1\" class=\"data row1 col1\" >2 (Iris-virginica)</td>\n",
       "            </tr>\n",
       "            <tr>\n",
       "                        <th id=\"T_da51d2a6_976a_11eb_92bd_9cb6d08f66c6level0_row2\" class=\"row_heading level0 row2\" >2</th>\n",
       "                        <td id=\"T_da51d2a6_976a_11eb_92bd_9cb6d08f66c6row2_col0\" class=\"data row2 col0\" >ndarray(shape=(4,), dtype=float32)</td>\n",
       "                        <td id=\"T_da51d2a6_976a_11eb_92bd_9cb6d08f66c6row2_col1\" class=\"data row2 col1\" >1 (Iris-versicolor)</td>\n",
       "            </tr>\n",
       "            <tr>\n",
       "                        <th id=\"T_da51d2a6_976a_11eb_92bd_9cb6d08f66c6level0_row3\" class=\"row_heading level0 row3\" >3</th>\n",
       "                        <td id=\"T_da51d2a6_976a_11eb_92bd_9cb6d08f66c6row3_col0\" class=\"data row3 col0\" >ndarray(shape=(4,), dtype=float32)</td>\n",
       "                        <td id=\"T_da51d2a6_976a_11eb_92bd_9cb6d08f66c6row3_col1\" class=\"data row3 col1\" >2 (Iris-virginica)</td>\n",
       "            </tr>\n",
       "    </tbody></table>"
      ],
      "text/plain": [
       "               features  label\n",
       "0  [5.1, 3.4, 1.5, 0.2]      0\n",
       "1  [7.7, 3.0, 6.1, 2.3]      2\n",
       "2  [5.7, 2.8, 4.5, 1.3]      1\n",
       "3  [6.8, 3.2, 5.9, 2.3]      2"
      ]
     },
     "execution_count": 8,
     "metadata": {},
     "output_type": "execute_result"
    }
   ],
   "source": [
    "dataset = tfds.load('iris',split='train')\n",
    "tfds.as_dataframe(dataset.take(4), info)"
   ]
  },
  {
   "cell_type": "code",
   "execution_count": 9,
   "metadata": {},
   "outputs": [
    {
     "data": {
      "text/html": [
       "<style  type=\"text/css\" >\n",
       "</style><table id=\"T_e643bcc1_976a_11eb_84b4_9cb6d08f66c6\" ><thead>    <tr>        <th class=\"blank level0\" ></th>        <th class=\"col_heading level0 col0\" >image</th>        <th class=\"col_heading level0 col1\" >label</th>    </tr></thead><tbody>\n",
       "                <tr>\n",
       "                        <th id=\"T_e643bcc1_976a_11eb_84b4_9cb6d08f66c6level0_row0\" class=\"row_heading level0 row0\" >0</th>\n",
       "                        <td id=\"T_e643bcc1_976a_11eb_84b4_9cb6d08f66c6row0_col0\" class=\"data row0 col0\" ><img src=\"data:image/png;base64,iVBORw0KGgoAAAANSUhEUgAAABwAAAAcCAAAAABXZoBIAAAAzElEQVR4nGNgGPQg5F8qjMmEIRn1XwinRvnvp2QxdTIyMjAwMDDksd17jCnpeN6CgYGBQZfhAhbzLP+WMzAwyPz8IAkXQuh8ycDAwMAQyHr1ORZJYQYGBgYGKYYDDFgkAxgZGBikMxnnISQZYQz2J0KXjwvpqV00+YfpnsS/f//++/v3bxiSGAuMYfp97rN3b1cz7MDiEQgI+bcGmYsatlH/T+PUyPD2jwVOOaOP23Br3P3vZyZOO///v7qGARd4/EkBt7FvbuOWoyIAAPBxN9oBRuu9AAAAAElFTkSuQmCC\" alt=\"Img\" /></td>\n",
       "                        <td id=\"T_e643bcc1_976a_11eb_84b4_9cb6d08f66c6row0_col1\" class=\"data row0 col1\" >4</td>\n",
       "            </tr>\n",
       "            <tr>\n",
       "                        <th id=\"T_e643bcc1_976a_11eb_84b4_9cb6d08f66c6level0_row1\" class=\"row_heading level0 row1\" >1</th>\n",
       "                        <td id=\"T_e643bcc1_976a_11eb_84b4_9cb6d08f66c6row1_col0\" class=\"data row1 col0\" ><img src=\"data:image/png;base64,iVBORw0KGgoAAAANSUhEUgAAABwAAAAcCAAAAABXZoBIAAAAmklEQVR4nGNgGOyAc/5KJlxyjIv+/TPEJan9798HWRgH3YhQBoZHj3HpfP/vVxQuOYF//54ieGjGNjEwXMalkeHbv3+eeCTfseAy1oCVYeofXBp3/f8lgUtO/su/azhtnPLvXwJOycv//uGU0//5bx1OySP//hngkuN5+u8tG4oIkj/VJBmO/8Il6cvAMBunlSIvX3DjlKQmAACHtTHZmy2LVAAAAABJRU5ErkJggg==\" alt=\"Img\" /></td>\n",
       "                        <td id=\"T_e643bcc1_976a_11eb_84b4_9cb6d08f66c6row1_col1\" class=\"data row1 col1\" >1</td>\n",
       "            </tr>\n",
       "            <tr>\n",
       "                        <th id=\"T_e643bcc1_976a_11eb_84b4_9cb6d08f66c6level0_row2\" class=\"row_heading level0 row2\" >2</th>\n",
       "                        <td id=\"T_e643bcc1_976a_11eb_84b4_9cb6d08f66c6row2_col0\" class=\"data row2 col0\" ><img src=\"data:image/png;base64,iVBORw0KGgoAAAANSUhEUgAAABwAAAAcCAAAAABXZoBIAAAA+0lEQVR4nM3QvyuEARzH8feVniSFiTBcKf8A85ESNqwkdbeY5NdmY/UXiM0z+Ad0SXZ1g0vJjw0Xi86pc13eD8NleJ47q3zG76tv3x/wJxk+jQ7bf8NldT9obdNl1fWW1nGh6mtLPIm0oJVWlvuIvOvMWx1qtqWa0U2aULNNNnCtT+MQapi0waK6CoR6mcS8Wuhq4Fqj1PZjU5NQnX0DUine433dD1qZBwjOrM/EsVc9AmCj6c5MWT8XADjX2mgMi+otABN1k0/YVncAFu/VLWLbPgNBduRxLBMQHe/FZ+Zs5EtLm8kP9F81MHrZTScNelZK6sFcXzP9o3wDadaKxdoXqEQAAAAASUVORK5CYII=\" alt=\"Img\" /></td>\n",
       "                        <td id=\"T_e643bcc1_976a_11eb_84b4_9cb6d08f66c6row2_col1\" class=\"data row2 col1\" >0</td>\n",
       "            </tr>\n",
       "            <tr>\n",
       "                        <th id=\"T_e643bcc1_976a_11eb_84b4_9cb6d08f66c6level0_row3\" class=\"row_heading level0 row3\" >3</th>\n",
       "                        <td id=\"T_e643bcc1_976a_11eb_84b4_9cb6d08f66c6row3_col0\" class=\"data row3 col0\" ><img src=\"data:image/png;base64,iVBORw0KGgoAAAANSUhEUgAAABwAAAAcCAAAAABXZoBIAAAA40lEQVR4nGNgGJpg//8OdCEWKM2obvgv/++6/zcZnJQebPuNqkjvLxI4IIgiJ3/v79/3b//9/fvv7993f/9NQzE2TZ6hc8J3JwYGBgaGK7cYeJE12n79+1cCxlH9+/cVB5LOlxy/pryHSUYyMO78gSR5W/vzU7gxfAz/cfq36fvfDw445Fr+/P3bg12KMebb37+7WbDKKSz89/fvNRmscjpb//79u0YBq5z0yb9//2bhcEvXv78fs1ixyzX//PsuHYc+gbvwAMcEmX//3kFzJxOc9YCRoesJLp3sx9+p4JIjGQAAnrpmBs0pxioAAAAASUVORK5CYII=\" alt=\"Img\" /></td>\n",
       "                        <td id=\"T_e643bcc1_976a_11eb_84b4_9cb6d08f66c6row3_col1\" class=\"data row3 col1\" >7</td>\n",
       "            </tr>\n",
       "    </tbody></table>"
      ],
      "text/plain": [
       "                                               image  label\n",
       "0  [[[0], [0], [0], [0], [0], [0], [0], [0], [0],...      4\n",
       "1  [[[0], [0], [0], [0], [0], [0], [0], [0], [0],...      1\n",
       "2  [[[0], [0], [0], [0], [0], [0], [0], [0], [0],...      0\n",
       "3  [[[0], [0], [0], [0], [0], [0], [0], [0], [0],...      7"
      ]
     },
     "execution_count": 9,
     "metadata": {},
     "output_type": "execute_result"
    }
   ],
   "source": [
    "dataset,info = tfds.load('mnist',split='train',with_info=True)\n",
    "tfds.as_dataframe(dataset.take(4), info)"
   ]
  },
  {
   "cell_type": "code",
   "execution_count": 10,
   "metadata": {},
   "outputs": [
    {
     "data": {
      "text/html": [
       "<style  type=\"text/css\" >\n",
       "</style><table id=\"T_f43f488c_976a_11eb_934e_9cb6d08f66c6\" ><thead>    <tr>        <th class=\"blank level0\" ></th>        <th class=\"col_heading level0 col0\" >features/alcohol</th>        <th class=\"col_heading level0 col1\" >features/chlorides</th>        <th class=\"col_heading level0 col2\" >features/citric acid</th>        <th class=\"col_heading level0 col3\" >features/density</th>        <th class=\"col_heading level0 col4\" >features/fixed acidity</th>        <th class=\"col_heading level0 col5\" >features/free sulfur dioxide</th>        <th class=\"col_heading level0 col6\" >features/pH</th>        <th class=\"col_heading level0 col7\" >features/residual sugar</th>        <th class=\"col_heading level0 col8\" >features/sulphates</th>        <th class=\"col_heading level0 col9\" >features/total sulfur dioxide</th>        <th class=\"col_heading level0 col10\" >features/volatile acidity</th>        <th class=\"col_heading level0 col11\" >quality</th>    </tr></thead><tbody>\n",
       "                <tr>\n",
       "                        <th id=\"T_f43f488c_976a_11eb_934e_9cb6d08f66c6level0_row0\" class=\"row_heading level0 row0\" >0</th>\n",
       "                        <td id=\"T_f43f488c_976a_11eb_934e_9cb6d08f66c6row0_col0\" class=\"data row0 col0\" >9.0</td>\n",
       "                        <td id=\"T_f43f488c_976a_11eb_934e_9cb6d08f66c6row0_col1\" class=\"data row0 col1\" >0.05400000140070915</td>\n",
       "                        <td id=\"T_f43f488c_976a_11eb_934e_9cb6d08f66c6row0_col2\" class=\"data row0 col2\" >0.3400000035762787</td>\n",
       "                        <td id=\"T_f43f488c_976a_11eb_934e_9cb6d08f66c6row0_col3\" class=\"data row0 col3\" >1.0008000135421753</td>\n",
       "                        <td id=\"T_f43f488c_976a_11eb_934e_9cb6d08f66c6row0_col4\" class=\"data row0 col4\" >7.599999904632568</td>\n",
       "                        <td id=\"T_f43f488c_976a_11eb_934e_9cb6d08f66c6row0_col5\" class=\"data row0 col5\" >44.0</td>\n",
       "                        <td id=\"T_f43f488c_976a_11eb_934e_9cb6d08f66c6row0_col6\" class=\"data row0 col6\" >3.2200000286102295</td>\n",
       "                        <td id=\"T_f43f488c_976a_11eb_934e_9cb6d08f66c6row0_col7\" class=\"data row0 col7\" >18.350000381469727</td>\n",
       "                        <td id=\"T_f43f488c_976a_11eb_934e_9cb6d08f66c6row0_col8\" class=\"data row0 col8\" >0.550000011920929</td>\n",
       "                        <td id=\"T_f43f488c_976a_11eb_934e_9cb6d08f66c6row0_col9\" class=\"data row0 col9\" >197.0</td>\n",
       "                        <td id=\"T_f43f488c_976a_11eb_934e_9cb6d08f66c6row0_col10\" class=\"data row0 col10\" >0.3199999928474426</td>\n",
       "                        <td id=\"T_f43f488c_976a_11eb_934e_9cb6d08f66c6row0_col11\" class=\"data row0 col11\" >5</td>\n",
       "            </tr>\n",
       "            <tr>\n",
       "                        <th id=\"T_f43f488c_976a_11eb_934e_9cb6d08f66c6level0_row1\" class=\"row_heading level0 row1\" >1</th>\n",
       "                        <td id=\"T_f43f488c_976a_11eb_934e_9cb6d08f66c6row1_col0\" class=\"data row1 col0\" >12.199999809265137</td>\n",
       "                        <td id=\"T_f43f488c_976a_11eb_934e_9cb6d08f66c6row1_col1\" class=\"data row1 col1\" >0.06300000101327896</td>\n",
       "                        <td id=\"T_f43f488c_976a_11eb_934e_9cb6d08f66c6row1_col2\" class=\"data row1 col2\" >0.49000000953674316</td>\n",
       "                        <td id=\"T_f43f488c_976a_11eb_934e_9cb6d08f66c6row1_col3\" class=\"data row1 col3\" >0.991100013256073</td>\n",
       "                        <td id=\"T_f43f488c_976a_11eb_934e_9cb6d08f66c6row1_col4\" class=\"data row1 col4\" >6.300000190734863</td>\n",
       "                        <td id=\"T_f43f488c_976a_11eb_934e_9cb6d08f66c6row1_col5\" class=\"data row1 col5\" >35.0</td>\n",
       "                        <td id=\"T_f43f488c_976a_11eb_934e_9cb6d08f66c6row1_col6\" class=\"data row1 col6\" >3.380000114440918</td>\n",
       "                        <td id=\"T_f43f488c_976a_11eb_934e_9cb6d08f66c6row1_col7\" class=\"data row1 col7\" >1.2000000476837158</td>\n",
       "                        <td id=\"T_f43f488c_976a_11eb_934e_9cb6d08f66c6row1_col8\" class=\"data row1 col8\" >0.41999998688697815</td>\n",
       "                        <td id=\"T_f43f488c_976a_11eb_934e_9cb6d08f66c6row1_col9\" class=\"data row1 col9\" >92.0</td>\n",
       "                        <td id=\"T_f43f488c_976a_11eb_934e_9cb6d08f66c6row1_col10\" class=\"data row1 col10\" >0.27000001072883606</td>\n",
       "                        <td id=\"T_f43f488c_976a_11eb_934e_9cb6d08f66c6row1_col11\" class=\"data row1 col11\" >6</td>\n",
       "            </tr>\n",
       "            <tr>\n",
       "                        <th id=\"T_f43f488c_976a_11eb_934e_9cb6d08f66c6level0_row2\" class=\"row_heading level0 row2\" >2</th>\n",
       "                        <td id=\"T_f43f488c_976a_11eb_934e_9cb6d08f66c6row2_col0\" class=\"data row2 col0\" >11.199999809265137</td>\n",
       "                        <td id=\"T_f43f488c_976a_11eb_934e_9cb6d08f66c6row2_col1\" class=\"data row2 col1\" >0.028999999165534973</td>\n",
       "                        <td id=\"T_f43f488c_976a_11eb_934e_9cb6d08f66c6row2_col2\" class=\"data row2 col2\" >0.10999999940395355</td>\n",
       "                        <td id=\"T_f43f488c_976a_11eb_934e_9cb6d08f66c6row2_col3\" class=\"data row2 col3\" >0.9907600283622742</td>\n",
       "                        <td id=\"T_f43f488c_976a_11eb_934e_9cb6d08f66c6row2_col4\" class=\"data row2 col4\" >5.300000190734863</td>\n",
       "                        <td id=\"T_f43f488c_976a_11eb_934e_9cb6d08f66c6row2_col5\" class=\"data row2 col5\" >6.0</td>\n",
       "                        <td id=\"T_f43f488c_976a_11eb_934e_9cb6d08f66c6row2_col6\" class=\"data row2 col6\" >3.509999990463257</td>\n",
       "                        <td id=\"T_f43f488c_976a_11eb_934e_9cb6d08f66c6row2_col7\" class=\"data row2 col7\" >1.100000023841858</td>\n",
       "                        <td id=\"T_f43f488c_976a_11eb_934e_9cb6d08f66c6row2_col8\" class=\"data row2 col8\" >0.47999998927116394</td>\n",
       "                        <td id=\"T_f43f488c_976a_11eb_934e_9cb6d08f66c6row2_col9\" class=\"data row2 col9\" >51.0</td>\n",
       "                        <td id=\"T_f43f488c_976a_11eb_934e_9cb6d08f66c6row2_col10\" class=\"data row2 col10\" >0.4300000071525574</td>\n",
       "                        <td id=\"T_f43f488c_976a_11eb_934e_9cb6d08f66c6row2_col11\" class=\"data row2 col11\" >4</td>\n",
       "            </tr>\n",
       "            <tr>\n",
       "                        <th id=\"T_f43f488c_976a_11eb_934e_9cb6d08f66c6level0_row3\" class=\"row_heading level0 row3\" >3</th>\n",
       "                        <td id=\"T_f43f488c_976a_11eb_934e_9cb6d08f66c6row3_col0\" class=\"data row3 col0\" >9.0</td>\n",
       "                        <td id=\"T_f43f488c_976a_11eb_934e_9cb6d08f66c6row3_col1\" class=\"data row3 col1\" >0.10999999940395355</td>\n",
       "                        <td id=\"T_f43f488c_976a_11eb_934e_9cb6d08f66c6row3_col2\" class=\"data row3 col2\" >0.27000001072883606</td>\n",
       "                        <td id=\"T_f43f488c_976a_11eb_934e_9cb6d08f66c6row3_col3\" class=\"data row3 col3\" >0.996720016002655</td>\n",
       "                        <td id=\"T_f43f488c_976a_11eb_934e_9cb6d08f66c6row3_col4\" class=\"data row3 col4\" >6.599999904632568</td>\n",
       "                        <td id=\"T_f43f488c_976a_11eb_934e_9cb6d08f66c6row3_col5\" class=\"data row3 col5\" >20.0</td>\n",
       "                        <td id=\"T_f43f488c_976a_11eb_934e_9cb6d08f66c6row3_col6\" class=\"data row3 col6\" >3.0799999237060547</td>\n",
       "                        <td id=\"T_f43f488c_976a_11eb_934e_9cb6d08f66c6row3_col7\" class=\"data row3 col7\" >10.699999809265137</td>\n",
       "                        <td id=\"T_f43f488c_976a_11eb_934e_9cb6d08f66c6row3_col8\" class=\"data row3 col8\" >0.4099999964237213</td>\n",
       "                        <td id=\"T_f43f488c_976a_11eb_934e_9cb6d08f66c6row3_col9\" class=\"data row3 col9\" >103.0</td>\n",
       "                        <td id=\"T_f43f488c_976a_11eb_934e_9cb6d08f66c6row3_col10\" class=\"data row3 col10\" >0.4099999964237213</td>\n",
       "                        <td id=\"T_f43f488c_976a_11eb_934e_9cb6d08f66c6row3_col11\" class=\"data row3 col11\" >6</td>\n",
       "            </tr>\n",
       "    </tbody></table>"
      ],
      "text/plain": [
       "   features/alcohol  features/chlorides  features/citric acid  \\\n",
       "0               9.0               0.054                  0.34   \n",
       "1              12.2               0.063                  0.49   \n",
       "2              11.2               0.029                  0.11   \n",
       "3               9.0               0.110                  0.27   \n",
       "\n",
       "   features/density  features/fixed acidity  features/free sulfur dioxide  \\\n",
       "0           1.00080                     7.6                          44.0   \n",
       "1           0.99110                     6.3                          35.0   \n",
       "2           0.99076                     5.3                           6.0   \n",
       "3           0.99672                     6.6                          20.0   \n",
       "\n",
       "   features/pH  features/residual sugar  features/sulphates  \\\n",
       "0         3.22                    18.35                0.55   \n",
       "1         3.38                     1.20                0.42   \n",
       "2         3.51                     1.10                0.48   \n",
       "3         3.08                    10.70                0.41   \n",
       "\n",
       "   features/total sulfur dioxide  features/volatile acidity  quality  \n",
       "0                          197.0                       0.32        5  \n",
       "1                           92.0                       0.27        6  \n",
       "2                           51.0                       0.43        4  \n",
       "3                          103.0                       0.41        6  "
      ]
     },
     "execution_count": 10,
     "metadata": {},
     "output_type": "execute_result"
    }
   ],
   "source": [
    "dataset,info = tfds.load('wine_quality',split='train',with_info=True)\n",
    "tfds.as_dataframe(dataset.take(4), info)"
   ]
  },
  {
   "cell_type": "code",
   "execution_count": 11,
   "metadata": {},
   "outputs": [
    {
     "data": {
      "image/png": "[encoded data removed]",
      "text/plain": [
       "<Figure size 648x648 with 9 Axes>"
      ]
     },
     "metadata": {},
     "output_type": "display_data"
    }
   ],
   "source": [
    "dataset,info = tfds.load('mnist',split='train',with_info=True)\n",
    "fig = tfds.show_examples(dataset, info)"
   ]
  },
  {
   "cell_type": "code",
   "execution_count": 12,
   "metadata": {},
   "outputs": [
    {
     "name": "stdout",
     "output_type": "stream",
     "text": [
      "tfds.core.DatasetInfo(\n",
      "    name='mnist',\n",
      "    full_name='mnist/3.0.1',\n",
      "    description=\"\"\"\n",
      "    The MNIST database of handwritten digits.\n",
      "    \"\"\",\n",
      "    homepage='http://yann.lecun.com/exdb/mnist/',\n",
      "    data_path='C:\\\\Users\\\\win\\\\tensorflow_datasets\\\\mnist\\\\3.0.1',\n",
      "    download_size=11.06 MiB,\n",
      "    dataset_size=21.00 MiB,\n",
      "    features=FeaturesDict({\n",
      "        'image': Image(shape=(28, 28, 1), dtype=tf.uint8),\n",
      "        'label': ClassLabel(shape=(), dtype=tf.int64, num_classes=10),\n",
      "    }),\n",
      "    supervised_keys=('image', 'label'),\n",
      "    splits={\n",
      "        'test': <SplitInfo num_examples=10000, num_shards=1>,\n",
      "        'train': <SplitInfo num_examples=60000, num_shards=1>,\n",
      "    },\n",
      "    citation=\"\"\"@article{lecun2010mnist,\n",
      "      title={MNIST handwritten digit database},\n",
      "      author={LeCun, Yann and Cortes, Corinna and Burges, CJ},\n",
      "      journal={ATT Labs [Online]. Available: http://yann.lecun.com/exdb/mnist},\n",
      "      volume={2},\n",
      "      year={2010}\n",
      "    }\"\"\",\n",
      ")\n"
     ]
    }
   ],
   "source": [
    "dataset,info = tfds.load('mnist',split='train',with_info=True)\n",
    "print(info)"
   ]
  },
  {
   "cell_type": "code",
   "execution_count": 14,
   "metadata": {},
   "outputs": [
    {
     "name": "stdout",
     "output_type": "stream",
     "text": [
      "10\n",
      "['0', '1', '2', '3', '4', '5', '6', '7', '8', '9']\n",
      "7\n",
      "7\n"
     ]
    }
   ],
   "source": [
    "print(info.features[\"label\"].num_classes)\n",
    "print(info.features[\"label\"].names)\n",
    "print(info.features[\"label\"].int2str(7))  # Human readable version (8 -> 'cat')\n",
    "print(info.features[\"label\"].str2int('7'))"
   ]
  },
  {
   "cell_type": "code",
   "execution_count": 13,
   "metadata": {},
   "outputs": [
    {
     "name": "stdout",
     "output_type": "stream",
     "text": [
      "{'image': (28, 28, 1), 'label': ()}\n",
      "{'image': tf.uint8, 'label': tf.int64}\n",
      "(28, 28, 1)\n",
      "<dtype: 'uint8'>\n"
     ]
    }
   ],
   "source": [
    "print(info.features.shape)\n",
    "print(info.features.dtype)\n",
    "print(info.features['image'].shape)\n",
    "print(info.features['image'].dtype)"
   ]
  },
  {
   "cell_type": "code",
   "execution_count": null,
   "metadata": {},
   "outputs": [],
   "source": []
  },
  {
   "cell_type": "code",
   "execution_count": 15,
   "metadata": {},
   "outputs": [
    {
     "name": "stdout",
     "output_type": "stream",
     "text": [
      "<TakeDataset shapes: {image: (28, 28, 1), label: ()}, types: {image: tf.uint8, label: tf.int64}>\n",
      "<TakeDataset shapes: ((28, 28, 1), ()), types: (tf.uint8, tf.int64)>\n"
     ]
    }
   ],
   "source": [
    "ds = tfds.load('mnist', split='train', as_supervised=False)\n",
    "ds = ds.take(1)\n",
    "print(ds)\n",
    "ds = tfds.load('mnist', split='train', as_supervised=True)\n",
    "ds = ds.take(1)\n",
    "print(ds)\n"
   ]
  },
  {
   "cell_type": "code",
   "execution_count": 16,
   "metadata": {},
   "outputs": [
    {
     "name": "stdout",
     "output_type": "stream",
     "text": [
      "Epoch 1/5\n",
      "469/469 [==============================] - 20s 42ms/step - loss: 0.2314 - accuracy: 0.9359 - val_loss: 0.0860 - val_accuracy: 0.9732\n",
      "Epoch 2/5\n",
      "469/469 [==============================] - 18s 37ms/step - loss: 0.0697 - accuracy: 0.9796 - val_loss: 0.0694 - val_accuracy: 0.9796\n",
      "Epoch 3/5\n",
      "469/469 [==============================] - 17s 36ms/step - loss: 0.0449 - accuracy: 0.9866 - val_loss: 0.0575 - val_accuracy: 0.9814\n",
      "Epoch 4/5\n",
      "469/469 [==============================] - 16s 35ms/step - loss: 0.0311 - accuracy: 0.9908 - val_loss: 0.0519 - val_accuracy: 0.9843\n",
      "Epoch 5/5\n",
      "469/469 [==============================] - 17s 35ms/step - loss: 0.0221 - accuracy: 0.9934 - val_loss: 0.0570 - val_accuracy: 0.9837\n"
     ]
    }
   ],
   "source": [
    "from tensorflow.keras.models import Sequential\n",
    "from tensorflow.keras.layers import Dense, Conv2D, Flatten\n",
    "\n",
    "(ds_train, ds_test), ds_info = tfds.load('mnist', split=['train', 'test'], with_info=True, as_supervised=True)\n",
    "\n",
    "def normalize_img(image, label):\n",
    "    return tf.cast(image, tf.float32) / 255., label\n",
    "\n",
    "ds_train = ds_train.map(normalize_img).shuffle(ds_info.splits['train'].num_examples).batch(128)\n",
    "ds_test = ds_test = ds_test.map(normalize_img).batch(128)\n",
    "\n",
    "\n",
    "model = Sequential()\n",
    "model.add(Conv2D(16, (3, 3), padding=\"same\",input_shape=(28,28,1), activation=\"relu\"))\n",
    "model.add(Flatten())\n",
    "model.add(Dense(50, activation='relu'))\n",
    "model.add(Dense(10, activation='softmax')) # three values and normalization (output sums to 1)\n",
    "\n",
    "model.compile(loss='sparse_categorical_crossentropy', optimizer=\"adam\",metrics=['accuracy'])\n",
    "\n",
    "H = model.fit(ds_train, epochs=5, batch_size=10, validation_data=ds_test)    \n"
   ]
  },
  {
   "cell_type": "code",
   "execution_count": 17,
   "metadata": {},
   "outputs": [
    {
     "name": "stdout",
     "output_type": "stream",
     "text": [
      "WARNING:tensorflow:From C:\\programs\\miniconda3\\envs\\deep\\lib\\site-packages\\tensorflow\\python\\training\\tracking\\tracking.py:111: Model.state_updates (from tensorflow.python.keras.engine.training) is deprecated and will be removed in a future version.\n",
      "Instructions for updating:\n",
      "This property should not be used in TensorFlow 2.0, as updates are applied automatically.\n"
     ]
    },
    {
     "name": "stderr",
     "output_type": "stream",
     "text": [
      "WARNING:tensorflow:From C:\\programs\\miniconda3\\envs\\deep\\lib\\site-packages\\tensorflow\\python\\training\\tracking\\tracking.py:111: Model.state_updates (from tensorflow.python.keras.engine.training) is deprecated and will be removed in a future version.\n",
      "Instructions for updating:\n",
      "This property should not be used in TensorFlow 2.0, as updates are applied automatically.\n"
     ]
    },
    {
     "name": "stdout",
     "output_type": "stream",
     "text": [
      "WARNING:tensorflow:From C:\\programs\\miniconda3\\envs\\deep\\lib\\site-packages\\tensorflow\\python\\training\\tracking\\tracking.py:111: Layer.updates (from tensorflow.python.keras.engine.base_layer) is deprecated and will be removed in a future version.\n",
      "Instructions for updating:\n",
      "This property should not be used in TensorFlow 2.0, as updates are applied automatically.\n"
     ]
    },
    {
     "name": "stderr",
     "output_type": "stream",
     "text": [
      "WARNING:tensorflow:From C:\\programs\\miniconda3\\envs\\deep\\lib\\site-packages\\tensorflow\\python\\training\\tracking\\tracking.py:111: Layer.updates (from tensorflow.python.keras.engine.base_layer) is deprecated and will be removed in a future version.\n",
      "Instructions for updating:\n",
      "This property should not be used in TensorFlow 2.0, as updates are applied automatically.\n"
     ]
    },
    {
     "name": "stdout",
     "output_type": "stream",
     "text": [
      "INFO:tensorflow:Assets written to: mnist_model\\assets\n"
     ]
    },
    {
     "name": "stderr",
     "output_type": "stream",
     "text": [
      "INFO:tensorflow:Assets written to: mnist_model\\assets\n"
     ]
    }
   ],
   "source": [
    "model.save('mnist_model')"
   ]
  }
 ],
 "metadata": {
  "kernelspec": {
   "display_name": "Python 3",
   "language": "python",
   "name": "python3"
  },
  "language_info": {
   "codemirror_mode": {
    "name": "ipython",
    "version": 3
   },
   "file_extension": ".py",
   "mimetype": "text/x-python",
   "name": "python",
   "nbconvert_exporter": "python",
   "pygments_lexer": "ipython3",
   "version": "3.8.5"
  }
 },
 "nbformat": 4,
 "nbformat_minor": 4
}
