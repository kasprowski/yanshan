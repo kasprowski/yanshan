{
 "cells": [
  {
   "cell_type": "code",
   "execution_count": 3,
   "metadata": {},
   "outputs": [
    {
     "name": "stdout",
     "output_type": "stream",
     "text": [
      "[[1. 0. 0. 0. 0.]]\n"
     ]
    }
   ],
   "source": [
    "import cv2\n",
    "\n",
    "# Load a model imported from Tensorflow\n",
    "tensorflowNet = cv2.dnn.readNetFromTensorflow('frozen_flowers.pb')\n",
    "\n",
    "# Input image\n",
    "img = cv2.imread('daisy.jpg')\n",
    "#img = cv2.imread('flowers/daisy/9515186037_3be48fe68f.jpg')\n",
    "#img = cv2.imread('flowers/roses/9338237628_4d2547608c.jpg')\n",
    "rows, cols, channels = img.shape\n",
    "img = cv2.resize(img,(64,64))\n",
    "# Use the given image as input, which needs to be blob(s).\n",
    "tensorflowNet.setInput(cv2.dnn.blobFromImage(img, size=(64,64), swapRB=True, crop=False))\n",
    "\n",
    "# Runs a forward pass to compute the net output\n",
    "networkOutput = tensorflowNet.forward()\n",
    "print(networkOutput)"
   ]
  },
  {
   "cell_type": "code",
   "execution_count": 2,
   "metadata": {},
   "outputs": [],
   "source": [
    "import tensorflow as tf\n",
    "from tensorflow.python.framework.convert_to_constants import convert_variables_to_constants_v2\n",
    "\n",
    "loaded = tf.saved_model.load('flowers_model')\n",
    "infer = loaded.signatures['serving_default']\n",
    "\n",
    "f = tf.function(infer).get_concrete_function(conv2d_8_input=tf.TensorSpec(shape=[None, 64, 64, 3], dtype=tf.float32))\n",
    "f2 = convert_variables_to_constants_v2(f)\n",
    "graph_def = f2.graph.as_graph_def()\n",
    "\n",
    "# Export frozen graph\n",
    "with tf.io.gfile.GFile('frozen_flowers.pb', 'wb') as f:\n",
    "   f.write(graph_def.SerializeToString())"
   ]
  }
 ],
 "metadata": {
  "kernelspec": {
   "display_name": "Python 3",
   "language": "python",
   "name": "python3"
  },
  "language_info": {
   "codemirror_mode": {
    "name": "ipython",
    "version": 3
   },
   "file_extension": ".py",
   "mimetype": "text/x-python",
   "name": "python",
   "nbconvert_exporter": "python",
   "pygments_lexer": "ipython3",
   "version": "3.8.5"
  }
 },
 "nbformat": 4,
 "nbformat_minor": 4
}
